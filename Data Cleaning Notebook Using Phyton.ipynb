{
    "metadata": {
        "kernelspec": {
            "name": "python3",
            "display_name": "Python 3 (ipykernel)",
            "language": "python"
        },
        "language_info": {
            "name": "python",
            "version": "3.8.10",
            "mimetype": "text/x-python",
            "codemirror_mode": {
                "name": "ipython",
                "version": 3
            },
            "pygments_lexer": "ipython3",
            "nbconvert_exporter": "python",
            "file_extension": ".py"
        }
    },
    "nbformat_minor": 2,
    "nbformat": 4,
    "cells": [
        {
            "cell_type": "markdown",
            "source": [
                "# Project : Air Bnb New York \n",
                "\n",
                "> - Data cleaning (removing outlier, change format\n",
                "> - Data analyst\n",
                "> - Data Visualisation"
            ],
            "metadata": {
                "azdata_cell_guid": "c5d1e57c-792d-4292-8472-63713fc8d259"
            },
            "attachments": {}
        },
        {
            "cell_type": "markdown",
            "source": [
                "<span style=\"color: rgb(201, 209, 217); font-family: -apple-system, BlinkMacSystemFont, &quot;Segoe UI&quot;, Helvetica, Arial, sans-serif, &quot;Apple Color Emoji&quot;, &quot;Segoe UI Emoji&quot;; font-size: 16px; background-color: rgb(13, 17, 23);\">Use this air bnb new york city&nbsp;</span> [data set](https://www.kaggle.com/dgomonov/new-york-city-airbnb-open-data/data) <span style=\"color: rgb(201, 209, 217); font-family: -apple-system, BlinkMacSystemFont, &quot;Segoe UI&quot;, Helvetica, Arial, sans-serif, &quot;Apple Color Emoji&quot;, &quot;Segoe UI Emoji&quot;; font-size: 16px; background-color: rgb(13, 17, 23);\">&nbsp;and remove outliers using percentile based on price per night for a given apartment/home. You can use suitable upper and lower limits on percentile based on your intuition. Your goal is to come up with new pandas dataframe that doesn't have the outliers present in it.</span>"
            ],
            "metadata": {
                "azdata_cell_guid": "6839d1d8-6415-4a03-a0d0-97e5fad626f6"
            },
            "attachments": {}
        },
        {
            "cell_type": "code",
            "source": [
                "import numpy as np\r\n",
                "import pandas as pd \r\n",
                "import matplotlib.pyplot as plt \r\n",
                "import seaborn as sn  "
            ],
            "metadata": {
                "azdata_cell_guid": "ffaea888-a1c5-4f79-bcdd-945ad18be63e",
                "tags": []
            },
            "outputs": [],
            "execution_count": 83
        },
        {
            "cell_type": "code",
            "source": [
                "df = pd.read_csv(r'E:\\Portofolio\\Sql Project 4\\Data\\AB_NYC_2019.csv')\r\n",
                "df.head(10)"
            ],
            "metadata": {
                "azdata_cell_guid": "1b2d1192-0a50-4303-8928-5803ca61c6ba",
                "tags": [
                    "hide_input"
                ]
            },
            "outputs": [],
            "execution_count": null
        },
        {
            "cell_type": "code",
            "source": [
                "df.price.describe()"
            ],
            "metadata": {
                "azdata_cell_guid": "1908e9d6-e00f-4ad4-9f88-a9d806a3e867"
            },
            "outputs": [
                {
                    "output_type": "execute_result",
                    "execution_count": 10,
                    "data": {
                        "text/plain": "count    48895.000000\nmean       152.720687\nstd        240.154170\nmin          0.000000\n25%         69.000000\n50%        106.000000\n75%        175.000000\nmax      10000.000000\nName: price, dtype: float64"
                    },
                    "metadata": {}
                }
            ],
            "execution_count": 10
        },
        {
            "cell_type": "code",
            "source": [
                "sn.histplot(df.price, kde=True)"
            ],
            "metadata": {
                "azdata_cell_guid": "b03176af-2743-4114-93e6-24be953e9445"
            },
            "outputs": [
                {
                    "output_type": "display_data",
                    "data": {
                        "text/plain": "<Figure size 432x288 with 1 Axes>",
                        "image/png": "[encoded data removed]"
                    },
                    "metadata": {
                        "needs_background": "light"
                    }
                },
                {
                    "output_type": "execute_result",
                    "execution_count": 77,
                    "data": {
                        "text/plain": "<AxesSubplot:xlabel='price', ylabel='Count'>"
                    },
                    "metadata": {}
                }
            ],
            "execution_count": 77
        },
        {
            "cell_type": "markdown",
            "source": [
                "## Remove outlier using percentile"
            ],
            "metadata": {
                "azdata_cell_guid": "c814c3e7-eb99-45fa-ab38-4adeb10d51a3"
            },
            "attachments": {}
        },
        {
            "cell_type": "code",
            "source": [
                "lower,upper = df.price.quantile([0.1,0.9]) ## using percentile to define boundary of outlier min 10% and max 90%\r\n",
                "lower,upper "
            ],
            "metadata": {
                "azdata_cell_guid": "a4a21bde-9103-434e-9169-3b1b35b3a3ac",
                "tags": []
            },
            "outputs": [
                {
                    "output_type": "execute_result",
                    "execution_count": 82,
                    "data": {
                        "text/plain": "(49.0, 269.0)"
                    },
                    "metadata": {}
                }
            ],
            "execution_count": 82
        },
        {
            "cell_type": "code",
            "source": [
                "df_out = df[(df.price<lower) | (df.price>upper)] ## Outlier\r\n",
                "df_out.shape, df.shape"
            ],
            "metadata": {
                "azdata_cell_guid": "299d111f-48ec-4077-bf72-625aee5ac3f2",
                "tags": [
                    "hide_input"
                ]
            },
            "outputs": [
                {
                    "output_type": "execute_result",
                    "execution_count": 66,
                    "data": {
                        "text/plain": "((9560, 16), (48895, 16))"
                    },
                    "metadata": {}
                }
            ],
            "execution_count": 66
        },
        {
            "cell_type": "code",
            "source": [
                "df2 = df[(df.price>lower) & (df.price<upper)] ## New table no outlier\r\n",
                "df2.sample(10)"
            ],
            "metadata": {
                "azdata_cell_guid": "4951fbac-70ff-421a-a048-f58c204488cc"
            },
            "outputs": [
                {
                    "output_type": "execute_result",
                    "execution_count": 65,
                    "data": {
                        "text/plain": "             id                                               name    host_id  \\\n11542   8984018                         Quaint 1BR In West Village    3256202   \n18153  14213699      West 50th street, Lux 1bd Serviced Apartment*   22541573   \n24759  19877706   Big 3 Bedroom Garden Level Apartment Near Subway    2988712   \n25813  20651136           Private 1 bed 1 bath- Chelsea, Manhattan   44170535   \n27690  21750219  Luxury 2 Bed / 2 Bath Apt 3 Blocks to Central ...  114008316   \n14427  11317209                   Modern Apartment in Williamsburg   20527254   \n2424    1203812                                Quiet minimal clean    6575712   \n44365  34200086         Cozy Studio with Patio Close to the Subway  258202599   \n47433  35732847      A lovely room in a great house close to RUMC.  102263916   \n47000  35539920       #1 Hotel-Like Private Room King Bed Near JFK  263504959   \n\n       host_name neighbourhood_group      neighbourhood  latitude  longitude  \\\n11542       Kyle           Manhattan            Chelsea  40.74044  -74.00326   \n18153        Ken           Manhattan     Hell's Kitchen  40.76297  -73.98588   \n24759      Sasha               Bronx  Claremont Village  40.83507  -73.91040   \n25813    Caitlin           Manhattan            Chelsea  40.74590  -73.99867   \n27690  Artemisia           Manhattan        East Harlem  40.78951  -73.94605   \n14427       Eddy            Brooklyn       Williamsburg  40.70821  -73.94719   \n2424        Emma           Manhattan       East Village  40.73138  -73.98807   \n44365     Elijah           Manhattan        East Harlem  40.78967  -73.94199   \n47433       John       Staten Island      Tompkinsville  40.63281  -74.09132   \n47000      David              Queens          Woodhaven  40.69158  -73.86578   \n\n             room_type  price  minimum_nights  number_of_reviews last_review  \\\n11542  Entire home/apt    225               1                  0         NaN   \n18153  Entire home/apt    215              30                  1  2017-12-02   \n24759  Entire home/apt     72              90                  2  2018-04-23   \n25813     Private room    165               3                  4  2017-10-10   \n27690  Entire home/apt    195              30                  5  2019-04-12   \n14427     Private room     65               2                  9  2016-12-05   \n2424   Entire home/apt    125               2                 28  2019-05-20   \n44365  Entire home/apt    145               2                  7  2019-06-24   \n47433     Private room     50               1                  4  2019-07-07   \n47000     Private room     50               1                  6  2019-07-06   \n\n       reviews_per_month  calculated_host_listings_count  availability_365  \n11542                NaN                               1                 0  \n18153               0.05                              87               357  \n24759               0.12                               7               223  \n25813               0.18                               2                 0  \n27690               0.30                               1               282  \n14427               0.25                               1                 0  \n2424                0.45                               1               179  \n44365               3.62                               1                 0  \n47433               4.00                               2                84  \n47000               6.00                               8               273  ",
                        "text/html": "<div>\n<style scoped>\n    .dataframe tbody tr th:only-of-type {\n        vertical-align: middle;\n    }\n\n    .dataframe tbody tr th {\n        vertical-align: top;\n    }\n\n    .dataframe thead th {\n        text-align: right;\n    }\n</style>\n<table border=\"1\" class=\"dataframe\">\n  <thead>\n    <tr style=\"text-align: right;\">\n      <th></th>\n      <th>id</th>\n      <th>name</th>\n      <th>host_id</th>\n      <th>host_name</th>\n      <th>neighbourhood_group</th>\n      <th>neighbourhood</th>\n      <th>latitude</th>\n      <th>longitude</th>\n      <th>room_type</th>\n      <th>price</th>\n      <th>minimum_nights</th>\n      <th>number_of_reviews</th>\n      <th>last_review</th>\n      <th>reviews_per_month</th>\n      <th>calculated_host_listings_count</th>\n      <th>availability_365</th>\n    </tr>\n  </thead>\n  <tbody>\n    <tr>\n      <th>11542</th>\n      <td>8984018</td>\n      <td>Quaint 1BR In West Village</td>\n      <td>3256202</td>\n      <td>Kyle</td>\n      <td>Manhattan</td>\n      <td>Chelsea</td>\n      <td>40.74044</td>\n      <td>-74.00326</td>\n      <td>Entire home/apt</td>\n      <td>225</td>\n      <td>1</td>\n      <td>0</td>\n      <td>NaN</td>\n      <td>NaN</td>\n      <td>1</td>\n      <td>0</td>\n    </tr>\n    <tr>\n      <th>18153</th>\n      <td>14213699</td>\n      <td>West 50th street, Lux 1bd Serviced Apartment*</td>\n      <td>22541573</td>\n      <td>Ken</td>\n      <td>Manhattan</td>\n      <td>Hell's Kitchen</td>\n      <td>40.76297</td>\n      <td>-73.98588</td>\n      <td>Entire home/apt</td>\n      <td>215</td>\n      <td>30</td>\n      <td>1</td>\n      <td>2017-12-02</td>\n      <td>0.05</td>\n      <td>87</td>\n      <td>357</td>\n    </tr>\n    <tr>\n      <th>24759</th>\n      <td>19877706</td>\n      <td>Big 3 Bedroom Garden Level Apartment Near Subway</td>\n      <td>2988712</td>\n      <td>Sasha</td>\n      <td>Bronx</td>\n      <td>Claremont Village</td>\n      <td>40.83507</td>\n      <td>-73.91040</td>\n      <td>Entire home/apt</td>\n      <td>72</td>\n      <td>90</td>\n      <td>2</td>\n      <td>2018-04-23</td>\n      <td>0.12</td>\n      <td>7</td>\n      <td>223</td>\n    </tr>\n    <tr>\n      <th>25813</th>\n      <td>20651136</td>\n      <td>Private 1 bed 1 bath- Chelsea, Manhattan</td>\n      <td>44170535</td>\n      <td>Caitlin</td>\n      <td>Manhattan</td>\n      <td>Chelsea</td>\n      <td>40.74590</td>\n      <td>-73.99867</td>\n      <td>Private room</td>\n      <td>165</td>\n      <td>3</td>\n      <td>4</td>\n      <td>2017-10-10</td>\n      <td>0.18</td>\n      <td>2</td>\n      <td>0</td>\n    </tr>\n    <tr>\n      <th>27690</th>\n      <td>21750219</td>\n      <td>Luxury 2 Bed / 2 Bath Apt 3 Blocks to Central ...</td>\n      <td>114008316</td>\n      <td>Artemisia</td>\n      <td>Manhattan</td>\n      <td>East Harlem</td>\n      <td>40.78951</td>\n      <td>-73.94605</td>\n      <td>Entire home/apt</td>\n      <td>195</td>\n      <td>30</td>\n      <td>5</td>\n      <td>2019-04-12</td>\n      <td>0.30</td>\n      <td>1</td>\n      <td>282</td>\n    </tr>\n    <tr>\n      <th>14427</th>\n      <td>11317209</td>\n      <td>Modern Apartment in Williamsburg</td>\n      <td>20527254</td>\n      <td>Eddy</td>\n      <td>Brooklyn</td>\n      <td>Williamsburg</td>\n      <td>40.70821</td>\n      <td>-73.94719</td>\n      <td>Private room</td>\n      <td>65</td>\n      <td>2</td>\n      <td>9</td>\n      <td>2016-12-05</td>\n      <td>0.25</td>\n      <td>1</td>\n      <td>0</td>\n    </tr>\n    <tr>\n      <th>2424</th>\n      <td>1203812</td>\n      <td>Quiet minimal clean</td>\n      <td>6575712</td>\n      <td>Emma</td>\n      <td>Manhattan</td>\n      <td>East Village</td>\n      <td>40.73138</td>\n      <td>-73.98807</td>\n      <td>Entire home/apt</td>\n      <td>125</td>\n      <td>2</td>\n      <td>28</td>\n      <td>2019-05-20</td>\n      <td>0.45</td>\n      <td>1</td>\n      <td>179</td>\n    </tr>\n    <tr>\n      <th>44365</th>\n      <td>34200086</td>\n      <td>Cozy Studio with Patio Close to the Subway</td>\n      <td>258202599</td>\n      <td>Elijah</td>\n      <td>Manhattan</td>\n      <td>East Harlem</td>\n      <td>40.78967</td>\n      <td>-73.94199</td>\n      <td>Entire home/apt</td>\n      <td>145</td>\n      <td>2</td>\n      <td>7</td>\n      <td>2019-06-24</td>\n      <td>3.62</td>\n      <td>1</td>\n      <td>0</td>\n    </tr>\n    <tr>\n      <th>47433</th>\n      <td>35732847</td>\n      <td>A lovely room in a great house close to RUMC.</td>\n      <td>102263916</td>\n      <td>John</td>\n      <td>Staten Island</td>\n      <td>Tompkinsville</td>\n      <td>40.63281</td>\n      <td>-74.09132</td>\n      <td>Private room</td>\n      <td>50</td>\n      <td>1</td>\n      <td>4</td>\n      <td>2019-07-07</td>\n      <td>4.00</td>\n      <td>2</td>\n      <td>84</td>\n    </tr>\n    <tr>\n      <th>47000</th>\n      <td>35539920</td>\n      <td>#1 Hotel-Like Private Room King Bed Near JFK</td>\n      <td>263504959</td>\n      <td>David</td>\n      <td>Queens</td>\n      <td>Woodhaven</td>\n      <td>40.69158</td>\n      <td>-73.86578</td>\n      <td>Private room</td>\n      <td>50</td>\n      <td>1</td>\n      <td>6</td>\n      <td>2019-07-06</td>\n      <td>6.00</td>\n      <td>8</td>\n      <td>273</td>\n    </tr>\n  </tbody>\n</table>\n</div>"
                    },
                    "metadata": {}
                }
            ],
            "execution_count": 65
        },
        {
            "cell_type": "code",
            "source": [
                "df2.price.describe()"
            ],
            "metadata": {
                "azdata_cell_guid": "3c276e36-78b7-4f85-8170-c980f24ba07a"
            },
            "outputs": [
                {
                    "output_type": "execute_result",
                    "execution_count": 70,
                    "data": {
                        "text/plain": "count    38957.00000\nmean       121.60708\nstd         55.45717\nmin         50.00000\n25%         75.00000\n50%        107.00000\n75%        155.00000\nmax        268.00000\nName: price, dtype: float64"
                    },
                    "metadata": {}
                }
            ],
            "execution_count": 70
        },
        {
            "cell_type": "code",
            "source": [
                "sn.histplot(df2.price, kde=True)"
            ],
            "metadata": {
                "azdata_cell_guid": "5108c4f0-f677-4b72-b860-465700a9e5f1"
            },
            "outputs": [
                {
                    "output_type": "display_data",
                    "data": {
                        "text/plain": "<Figure size 432x288 with 1 Axes>",
                        "image/png": "[encoded data removed]"
                    },
                    "metadata": {
                        "needs_background": "light"
                    }
                },
                {
                    "output_type": "execute_result",
                    "execution_count": 72,
                    "data": {
                        "text/plain": "<AxesSubplot:xlabel='price', ylabel='Count'>"
                    },
                    "metadata": {}
                }
            ],
            "execution_count": 72
        },
        {
            "cell_type": "markdown",
            "source": [
                "## Find missing value on new dataframe"
            ],
            "metadata": {
                "azdata_cell_guid": "2e1e582c-9b2c-44f1-8a26-d0149fe8a31a"
            },
            "attachments": {}
        },
        {
            "cell_type": "code",
            "source": [
                "df2.shape, df2.isnull().sum(), df2.duplicated().sum()"
            ],
            "metadata": {
                "azdata_cell_guid": "78c6fb38-f2f8-4ac9-85cd-6e35302a8a1e"
            },
            "outputs": [
                {
                    "output_type": "execute_result",
                    "execution_count": 94,
                    "data": {
                        "text/plain": "((38957, 16),\n id                                   0\n name                                12\n host_id                              0\n host_name                           17\n neighbourhood_group                  0\n neighbourhood                        0\n latitude                             0\n longitude                            0\n room_type                            0\n price                                0\n minimum_nights                       0\n number_of_reviews                    0\n last_review                       7400\n reviews_per_month                 7400\n calculated_host_listings_count       0\n availability_365                     0\n dtype: int64,\n 0)"
                    },
                    "metadata": {}
                }
            ],
            "execution_count": 94
        },
        {
            "cell_type": "code",
            "source": [
                "df3 = df2.dropna()"
            ],
            "metadata": {
                "azdata_cell_guid": "f67a2d97-cea3-4cfb-9cf0-ead57dfb0c20"
            },
            "outputs": [],
            "execution_count": 85
        },
        {
            "cell_type": "code",
            "source": [
                "df3.shape, df3.isnull().sum(), df3.duplicated().sum()"
            ],
            "metadata": {
                "azdata_cell_guid": "a91db865-858e-40cb-a5e2-e2a64cd2f1ed"
            },
            "outputs": [
                {
                    "output_type": "execute_result",
                    "execution_count": 92,
                    "data": {
                        "text/plain": "((31538, 16),\n id                                0\n name                              0\n host_id                           0\n host_name                         0\n neighbourhood_group               0\n neighbourhood                     0\n latitude                          0\n longitude                         0\n room_type                         0\n price                             0\n minimum_nights                    0\n number_of_reviews                 0\n last_review                       0\n reviews_per_month                 0\n calculated_host_listings_count    0\n availability_365                  0\n dtype: int64,\n 0)"
                    },
                    "metadata": {}
                }
            ],
            "execution_count": 92
        }
    ]
}