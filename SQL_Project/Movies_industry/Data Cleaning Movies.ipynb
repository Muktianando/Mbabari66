{
    "metadata": {
        "kernelspec": {
            "name": "python3",
            "display_name": "Python 3 (ipykernel)",
            "language": "python"
        },
        "language_info": {
            "name": "python",
            "version": "3.8.10",
            "mimetype": "text/x-python",
            "codemirror_mode": {
                "name": "ipython",
                "version": 3
            },
            "pygments_lexer": "ipython3",
            "nbconvert_exporter": "python",
            "file_extension": ".py"
        }
    },
    "nbformat_minor": 2,
    "nbformat": 4,
    "cells": [
        {
            "cell_type": "code",
            "source": [
                "import pandas as pd \n",
                "import numpy as np\n",
                "import seaborn as sns"
            ],
            "metadata": {
                "azdata_cell_guid": "df04667c-b553-401d-a749-b75e867b51c0"
            },
            "outputs": [],
            "execution_count": 1
        },
        {
            "cell_type": "code",
            "source": [
                "df = pd.read_csv(\"movies.csv\")"
            ],
            "metadata": {
                "azdata_cell_guid": "042a59bd-9a18-4ea4-b021-bc5cdb8524a9"
            },
            "outputs": [],
            "execution_count": 2
        },
        {
            "cell_type": "code",
            "source": [
                "df"
            ],
            "metadata": {
                "azdata_cell_guid": "a3a4c5ab-1b01-4984-8370-332c1f31c683"
            },
            "outputs": [],
            "execution_count": null
        },
        {
            "cell_type": "code",
            "source": [
                "df.isnull().sum() ## Find some missing value "
            ],
            "metadata": {
                "azdata_cell_guid": "9fd74128-03b1-47e4-8299-a76af594416c"
            },
            "outputs": [],
            "execution_count": null
        },
        {
            "cell_type": "code",
            "source": [
                "df = df.dropna() ## drop some value is null"
            ],
            "metadata": {
                "azdata_cell_guid": "2f87551b-06d7-419b-b653-0acaaf910ba3"
            },
            "outputs": [],
            "execution_count": 18
        },
        {
            "cell_type": "code",
            "source": [
                "df.dtypes"
            ],
            "metadata": {
                "azdata_cell_guid": "5109dd33-27b4-4354-b2c6-fd7779eda0d5"
            },
            "outputs": [],
            "execution_count": null
        },
        {
            "cell_type": "code",
            "source": [
                "df['budget'] = df['budget'].astype('int64') ## change Datatype \n",
                "\n",
                "df.head()"
            ],
            "metadata": {
                "azdata_cell_guid": "d1869c97-70f1-48ac-b951-a0dc37b79542",
                "tags": [
                    "hide_input"
                ]
            },
            "outputs": [],
            "execution_count": null
        },
        {
            "cell_type": "code",
            "source": [
                "df.duplicated().value_counts() ## find duplicated value \r\n",
                "df = df.drop_duplicates() ## Drop diplicated"
            ],
            "metadata": {
                "azdata_cell_guid": "ece74da9-d303-44fc-acf3-daf4771db882",
                "tags": [
                    "hide_input"
                ]
            },
            "outputs": [],
            "execution_count": 7
        }
    ]
}