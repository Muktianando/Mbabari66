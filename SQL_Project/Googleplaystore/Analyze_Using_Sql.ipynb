{
    "metadata": {
        "kernelspec": {
            "name": "SQL",
            "display_name": "SQL",
            "language": "sql"
        },
        "language_info": {
            "name": "sql",
            "version": ""
        }
    },
    "nbformat_minor": 2,
    "nbformat": 4,
    "cells": [
        {
            "cell_type": "markdown",
            "source": [
                "# Analyze using SQL"
            ],
            "metadata": {
                "azdata_cell_guid": "a02c2e87-4f92-43cc-a395-2f213d8d00bd"
            },
            "attachments": {}
        },
        {
            "cell_type": "markdown",
            "source": [
                "1. What the most category by rating ?\n",
                "2. find app name by category ?\n",
                "3. what total review each category ?\n",
                "4. Find total app each year with total review?"
            ],
            "metadata": {
                "azdata_cell_guid": "68f4c6d0-806c-4224-a49b-840112294469"
            },
            "attachments": {}
        },
        {
            "cell_type": "code",
            "source": [
                "use Googleplays"
            ],
            "metadata": {
                "azdata_cell_guid": "3b53ad65-3274-48d8-9f8b-e67f351adf4b"
            },
            "outputs": [
                {
                    "output_type": "display_data",
                    "data": {
                        "text/html": "Commands completed successfully."
                    },
                    "metadata": {}
                },
                {
                    "output_type": "display_data",
                    "data": {
                        "text/html": "Total execution time: 00:00:00"
                    },
                    "metadata": {}
                }
            ],
            "execution_count": 12
        },
        {
            "cell_type": "code",
            "source": [
                "alter TABLE dbo.[data_clean]\r\n",
                "ALTER COLUMN Rating FLOAT;"
            ],
            "metadata": {
                "azdata_cell_guid": "ab8a9afa-dbcc-4561-8cd4-91c2f2a37084"
            },
            "outputs": [
                {
                    "output_type": "display_data",
                    "data": {
                        "text/html": "Commands completed successfully."
                    },
                    "metadata": {}
                },
                {
                    "output_type": "display_data",
                    "data": {
                        "text/html": "Total execution time: 00:00:00.085"
                    },
                    "metadata": {}
                }
            ],
            "execution_count": 17
        },
        {
            "cell_type": "code",
            "source": [
                "select top 10 --- What the most category by rating ?\r\n",
                "    category,\r\n",
                "    round(avg(rating),2) as avg_rating\r\n",
                "from data_clean\r\n",
                "GROUP by category"
            ],
            "metadata": {
                "azdata_cell_guid": "48a042d4-61f5-429d-bdbf-483114ae9602"
            },
            "outputs": [
                {
                    "output_type": "display_data",
                    "data": {
                        "text/html": "(10 rows affected)"
                    },
                    "metadata": {}
                },
                {
                    "output_type": "display_data",
                    "data": {
                        "text/html": "Total execution time: 00:00:00.018"
                    },
                    "metadata": {}
                },
                {
                    "output_type": "execute_result",
                    "metadata": {},
                    "execution_count": 21,
                    "data": {
                        "application/vnd.dataresource+json": {
                            "schema": {
                                "fields": [
                                    {
                                        "name": "category"
                                    },
                                    {
                                        "name": "avg_rating"
                                    }
                                ]
                            },
                            "data": [
                                {
                                    "0": "EDUCATION",
                                    "1": "4,38"
                                },
                                {
                                    "0": "ENTERTAINMENT",
                                    "1": "4,14"
                                },
                                {
                                    "0": "FAMILY",
                                    "1": "4,19"
                                },
                                {
                                    "0": "PARENTING",
                                    "1": "4,3"
                                },
                                {
                                    "0": "PERSONALIZATION",
                                    "1": "4,33"
                                },
                                {
                                    "0": "PHOTOGRAPHY",
                                    "1": "4,18"
                                },
                                {
                                    "0": "HOUSE_AND_HOME",
                                    "1": "4,16"
                                },
                                {
                                    "0": "MAPS_AND_NAVIGATION",
                                    "1": "4,05"
                                },
                                {
                                    "0": "GAME",
                                    "1": "4,28"
                                },
                                {
                                    "0": "ART_AND_DESIGN",
                                    "1": "4,38"
                                }
                            ]
                        },
                        "text/html": [
                            "<table>",
                            "<tr><th>category</th><th>avg_rating</th></tr>",
                            "<tr><td>EDUCATION</td><td>4,38</td></tr>",
                            "<tr><td>ENTERTAINMENT</td><td>4,14</td></tr>",
                            "<tr><td>FAMILY</td><td>4,19</td></tr>",
                            "<tr><td>PARENTING</td><td>4,3</td></tr>",
                            "<tr><td>PERSONALIZATION</td><td>4,33</td></tr>",
                            "<tr><td>PHOTOGRAPHY</td><td>4,18</td></tr>",
                            "<tr><td>HOUSE_AND_HOME</td><td>4,16</td></tr>",
                            "<tr><td>MAPS_AND_NAVIGATION</td><td>4,05</td></tr>",
                            "<tr><td>GAME</td><td>4,28</td></tr>",
                            "<tr><td>ART_AND_DESIGN</td><td>4,38</td></tr>",
                            "</table>"
                        ]
                    }
                }
            ],
            "execution_count": 21
        },
        {
            "cell_type": "code",
            "source": [
                "select top 10 --- What the most category by rating ?\r\n",
                "    category,\r\n",
                "    count(rating) as total_aps\r\n",
                "from data_clean\r\n",
                "GROUP by category\r\n",
                "order by total_aps DESC"
            ],
            "metadata": {
                "azdata_cell_guid": "2981fa0c-31d4-4382-b14d-79f68e89c84d"
            },
            "outputs": [
                {
                    "output_type": "display_data",
                    "data": {
                        "text/html": "(10 rows affected)"
                    },
                    "metadata": {}
                },
                {
                    "output_type": "display_data",
                    "data": {
                        "text/html": "Total execution time: 00:00:00.011"
                    },
                    "metadata": {}
                },
                {
                    "output_type": "execute_result",
                    "metadata": {},
                    "execution_count": 35,
                    "data": {
                        "application/vnd.dataresource+json": {
                            "schema": {
                                "fields": [
                                    {
                                        "name": "category"
                                    },
                                    {
                                        "name": "total_aps"
                                    }
                                ]
                            },
                            "data": [
                                {
                                    "0": "FAMILY",
                                    "1": "1717"
                                },
                                {
                                    "0": "GAME",
                                    "1": "1074"
                                },
                                {
                                    "0": "TOOLS",
                                    "1": "733"
                                },
                                {
                                    "0": "PRODUCTIVITY",
                                    "1": "334"
                                },
                                {
                                    "0": "FINANCE",
                                    "1": "317"
                                },
                                {
                                    "0": "PERSONALIZATION",
                                    "1": "308"
                                },
                                {
                                    "0": "COMMUNICATION",
                                    "1": "307"
                                },
                                {
                                    "0": "LIFESTYLE",
                                    "1": "305"
                                },
                                {
                                    "0": "PHOTOGRAPHY",
                                    "1": "304"
                                },
                                {
                                    "0": "MEDICAL",
                                    "1": "302"
                                }
                            ]
                        },
                        "text/html": [
                            "<table>",
                            "<tr><th>category</th><th>total_aps</th></tr>",
                            "<tr><td>FAMILY</td><td>1717</td></tr>",
                            "<tr><td>GAME</td><td>1074</td></tr>",
                            "<tr><td>TOOLS</td><td>733</td></tr>",
                            "<tr><td>PRODUCTIVITY</td><td>334</td></tr>",
                            "<tr><td>FINANCE</td><td>317</td></tr>",
                            "<tr><td>PERSONALIZATION</td><td>308</td></tr>",
                            "<tr><td>COMMUNICATION</td><td>307</td></tr>",
                            "<tr><td>LIFESTYLE</td><td>305</td></tr>",
                            "<tr><td>PHOTOGRAPHY</td><td>304</td></tr>",
                            "<tr><td>MEDICAL</td><td>302</td></tr>",
                            "</table>"
                        ]
                    }
                }
            ],
            "execution_count": 35
        },
        {
            "cell_type": "code",
            "source": [
                "alter TABLE dbo.[data_clean]\r\n",
                "ALTER COLUMN Reviews FLOAT; --- change datatype in reviews coloums"
            ],
            "metadata": {
                "azdata_cell_guid": "a5fcc5c7-4068-4e7d-8aa7-97b25074ba33",
                "tags": []
            },
            "outputs": [
                {
                    "output_type": "display_data",
                    "data": {
                        "text/html": "Commands completed successfully."
                    },
                    "metadata": {}
                },
                {
                    "output_type": "display_data",
                    "data": {
                        "text/html": "Total execution time: 00:00:00.054"
                    },
                    "metadata": {}
                }
            ],
            "execution_count": 36
        },
        {
            "cell_type": "code",
            "source": [
                "select top 10 --- What the most category with total reviews?\r\n",
                "    category,\r\n",
                "    sum(reviews) as total_Reviews\r\n",
                "from data_clean\r\n",
                "GROUP by category\r\n",
                "order by total_Reviews DESC"
            ],
            "metadata": {
                "azdata_cell_guid": "ad9bba42-caa1-4811-892a-6a91e76f423c"
            },
            "outputs": [
                {
                    "output_type": "display_data",
                    "data": {
                        "text/html": "(10 rows affected)"
                    },
                    "metadata": {}
                },
                {
                    "output_type": "display_data",
                    "data": {
                        "text/html": "Total execution time: 00:00:00.010"
                    },
                    "metadata": {}
                },
                {
                    "output_type": "execute_result",
                    "metadata": {},
                    "execution_count": 51,
                    "data": {
                        "application/vnd.dataresource+json": {
                            "schema": {
                                "fields": [
                                    {
                                        "name": "category"
                                    },
                                    {
                                        "name": "total_Reviews"
                                    }
                                ]
                            },
                            "data": [
                                {
                                    "0": "GAME",
                                    "1": "1415533878"
                                },
                                {
                                    "0": "COMMUNICATION",
                                    "1": "601273091"
                                },
                                {
                                    "0": "SOCIAL",
                                    "1": "533576498"
                                },
                                {
                                    "0": "FAMILY",
                                    "1": "396768541"
                                },
                                {
                                    "0": "TOOLS",
                                    "1": "273180158"
                                },
                                {
                                    "0": "PHOTOGRAPHY",
                                    "1": "204297367"
                                },
                                {
                                    "0": "VIDEO_PLAYERS",
                                    "1": "110379692"
                                },
                                {
                                    "0": "PRODUCTIVITY",
                                    "1": "102554240"
                                },
                                {
                                    "0": "SHOPPING",
                                    "1": "94930973"
                                },
                                {
                                    "0": "PERSONALIZATION",
                                    "1": "75192419"
                                }
                            ]
                        },
                        "text/html": [
                            "<table>",
                            "<tr><th>category</th><th>total_Reviews</th></tr>",
                            "<tr><td>GAME</td><td>1415533878</td></tr>",
                            "<tr><td>COMMUNICATION</td><td>601273091</td></tr>",
                            "<tr><td>SOCIAL</td><td>533576498</td></tr>",
                            "<tr><td>FAMILY</td><td>396768541</td></tr>",
                            "<tr><td>TOOLS</td><td>273180158</td></tr>",
                            "<tr><td>PHOTOGRAPHY</td><td>204297367</td></tr>",
                            "<tr><td>VIDEO_PLAYERS</td><td>110379692</td></tr>",
                            "<tr><td>PRODUCTIVITY</td><td>102554240</td></tr>",
                            "<tr><td>SHOPPING</td><td>94930973</td></tr>",
                            "<tr><td>PERSONALIZATION</td><td>75192419</td></tr>",
                            "</table>"
                        ]
                    }
                }
            ],
            "execution_count": 51
        },
        {
            "cell_type": "code",
            "source": [
                "select --- find total apss and reviews each year\r\n",
                "    year,\r\n",
                "    count(app) as total_aps,\r\n",
                "    sum(reviews) as total_Reviews\r\n",
                "from data_clean\r\n",
                "GROUP by year \r\n",
                "order by total_aps DESC"
            ],
            "metadata": {
                "azdata_cell_guid": "0d841243-8854-4067-afd1-d80236348aa8"
            },
            "outputs": [
                {
                    "output_type": "display_data",
                    "data": {
                        "text/html": "(9 rows affected)"
                    },
                    "metadata": {}
                },
                {
                    "output_type": "display_data",
                    "data": {
                        "text/html": "Total execution time: 00:00:00.016"
                    },
                    "metadata": {}
                },
                {
                    "output_type": "execute_result",
                    "metadata": {},
                    "execution_count": 50,
                    "data": {
                        "application/vnd.dataresource+json": {
                            "schema": {
                                "fields": [
                                    {
                                        "name": "year"
                                    },
                                    {
                                        "name": "total_aps"
                                    },
                                    {
                                        "name": "total_Reviews"
                                    }
                                ]
                            },
                            "data": [
                                {
                                    "0": "2018",
                                    "1": "6095",
                                    "2": "4051582809"
                                },
                                {
                                    "0": "2017",
                                    "1": "1457",
                                    "2": "103835945"
                                },
                                {
                                    "0": "2016",
                                    "1": "638",
                                    "2": "24607916"
                                },
                                {
                                    "0": "2015",
                                    "1": "383",
                                    "2": "13244229"
                                },
                                {
                                    "0": "2014",
                                    "1": "185",
                                    "2": "6570982"
                                },
                                {
                                    "0": "2013",
                                    "1": "91",
                                    "2": "3553230"
                                },
                                {
                                    "0": "2012",
                                    "1": "21",
                                    "2": "270323"
                                },
                                {
                                    "0": "2011",
                                    "1": "15",
                                    "2": "235800"
                                },
                                {
                                    "0": "2010",
                                    "1": "1",
                                    "2": "1415"
                                }
                            ]
                        },
                        "text/html": [
                            "<table>",
                            "<tr><th>year</th><th>total_aps</th><th>total_Reviews</th></tr>",
                            "<tr><td>2018</td><td>6095</td><td>4051582809</td></tr>",
                            "<tr><td>2017</td><td>1457</td><td>103835945</td></tr>",
                            "<tr><td>2016</td><td>638</td><td>24607916</td></tr>",
                            "<tr><td>2015</td><td>383</td><td>13244229</td></tr>",
                            "<tr><td>2014</td><td>185</td><td>6570982</td></tr>",
                            "<tr><td>2013</td><td>91</td><td>3553230</td></tr>",
                            "<tr><td>2012</td><td>21</td><td>270323</td></tr>",
                            "<tr><td>2011</td><td>15</td><td>235800</td></tr>",
                            "<tr><td>2010</td><td>1</td><td>1415</td></tr>",
                            "</table>"
                        ]
                    }
                }
            ],
            "execution_count": 50
        }
    ]
}