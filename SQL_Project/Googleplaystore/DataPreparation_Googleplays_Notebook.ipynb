{
    "metadata": {
        "kernelspec": {
            "name": "python3",
            "display_name": "Python 3 (ipykernel)",
            "language": "python"
        },
        "language_info": {
            "name": "python",
            "version": "3.8.10",
            "mimetype": "text/x-python",
            "codemirror_mode": {
                "name": "ipython",
                "version": 3
            },
            "pygments_lexer": "ipython3",
            "nbconvert_exporter": "python",
            "file_extension": ".py"
        }
    },
    "nbformat_minor": 2,
    "nbformat": 4,
    "cells": [
        {
            "cell_type": "markdown",
            "source": [
                "# SQL Project \n",
                "\n",
                "> Name  : Muktianando\n",
                "> \n",
                "> Date    : 07/03/2022\n",
                "> \n",
                "> Source : [https://www.kaggle.com/bzynpb/data-visualisation-of-google-play-store-apps/data](https://www.kaggle.com/bzynpb/data-visualisation-of-google-play-store-apps/data)"
            ],
            "metadata": {
                "azdata_cell_guid": "76208004-9d5a-42bf-9c99-a953095be6c3"
            },
            "attachments": {}
        },
        {
            "cell_type": "markdown",
            "source": [
                "# ASK\n",
                "Get the insight in data include :\n",
                "1. What the most category by rating ?\n",
                "2. find app name by category ?\n",
                "3. what total review each category ?\n",
                "4. Find total app each year with total review ?"
            ],
            "metadata": {
                "azdata_cell_guid": "d4b22e24-f27e-4337-8e1f-df8e63f7da01"
            },
            "attachments": {}
        },
        {
            "cell_type": "markdown",
            "source": [
                "# Prepare\n",
                "\n",
                "To prepare data i changed the type file from csv to xls for import the data in sql management system. after that, i cleaned the data by 'nan' word to 'blank' value for define the null value. because, a null value and '0' value is such different types. this explaination about coloumn from table 'googleplays\\_data'  :\n",
                "\n",
                "> - App: Google store app name\n",
                "> - Category: App category on the google store\n",
                "> - Rating: Google store rating value\n",
                "> - Reviews: Number of the reviews\n",
                "> - Size: Size of the app\n",
                "> - Type: Price of the app\n",
                "> - Content Rating:\n",
                "> - Genres: App type on the google store\n",
                "> - Latest Updated: Latest update time\n",
                "> - Current Ver: latest version of the app\n",
                "> - Android Ver: Latest android version to use properly"
            ],
            "metadata": {
                "azdata_cell_guid": "44b9f1a0-7a66-4962-aab9-aaef0476f5a9"
            },
            "attachments": {}
        },
        {
            "cell_type": "markdown",
            "source": [
                "# Process \n",
                "\n",
                "- Data Cleaning (total missing value and duplicate)\n",
                "- Data outlier"
            ],
            "metadata": {
                "azdata_cell_guid": "4ae105d3-859e-4a14-9406-77036508bddf"
            },
            "attachments": {}
        },
        {
            "cell_type": "code",
            "source": [
                "import numpy as np \r\n",
                "import pandas as pd \r\n",
                "import seaborn as sn "
            ],
            "metadata": {
                "azdata_cell_guid": "27969221-9911-439d-b942-6e2679c9c4a1",
                "tags": []
            },
            "outputs": [],
            "execution_count": 2
        },
        {
            "cell_type": "code",
            "source": [
                "df = pd.read_csv(r'E:\\Portofolio\\Sql Project 3\\Data\\googleplaystore.csv')\r\n",
                "df.head()"
            ],
            "metadata": {
                "azdata_cell_guid": "f931cc03-69ba-4437-9b25-47d680528015"
            },
            "outputs": [
                {
                    "data": {
                        "text/plain": "                                                 App        Category  Rating  \\\n0     Photo Editor & Candy Camera & Grid & ScrapBook  ART_AND_DESIGN     4.1   \n1                                Coloring book moana  ART_AND_DESIGN     3.9   \n2  U Launcher Lite – FREE Live Cool Themes, Hide ...  ART_AND_DESIGN     4.7   \n3                              Sketch - Draw & Paint  ART_AND_DESIGN     4.5   \n4              Pixel Draw - Number Art Coloring Book  ART_AND_DESIGN     4.3   \n\n  Reviews  Size     Installs  Type Price Content Rating  \\\n0     159   19M      10,000+  Free     0       Everyone   \n1     967   14M     500,000+  Free     0       Everyone   \n2   87510  8.7M   5,000,000+  Free     0       Everyone   \n3  215644   25M  50,000,000+  Free     0           Teen   \n4     967  2.8M     100,000+  Free     0       Everyone   \n\n                      Genres      Last Updated         Current Ver  \\\n0               Art & Design   January 7, 2018               1.0.0   \n1  Art & Design;Pretend Play  January 15, 2018               2.0.0   \n2               Art & Design    August 1, 2018               1.2.4   \n3               Art & Design      June 8, 2018  Varies with device   \n4    Art & Design;Creativity     June 20, 2018                 1.1   \n\n    Android Ver  \n0  4.0.3 and up  \n1  4.0.3 and up  \n2  4.0.3 and up  \n3    4.2 and up  \n4    4.4 and up  ",
                        "text/html": "<div>\n<style scoped>\n    .dataframe tbody tr th:only-of-type {\n        vertical-align: middle;\n    }\n\n    .dataframe tbody tr th {\n        vertical-align: top;\n    }\n\n    .dataframe thead th {\n        text-align: right;\n    }\n</style>\n<table border=\"1\" class=\"dataframe\">\n  <thead>\n    <tr style=\"text-align: right;\">\n      <th></th>\n      <th>App</th>\n      <th>Category</th>\n      <th>Rating</th>\n      <th>Reviews</th>\n      <th>Size</th>\n      <th>Installs</th>\n      <th>Type</th>\n      <th>Price</th>\n      <th>Content Rating</th>\n      <th>Genres</th>\n      <th>Last Updated</th>\n      <th>Current Ver</th>\n      <th>Android Ver</th>\n    </tr>\n  </thead>\n  <tbody>\n    <tr>\n      <th>0</th>\n      <td>Photo Editor &amp; Candy Camera &amp; Grid &amp; ScrapBook</td>\n      <td>ART_AND_DESIGN</td>\n      <td>4.1</td>\n      <td>159</td>\n      <td>19M</td>\n      <td>10,000+</td>\n      <td>Free</td>\n      <td>0</td>\n      <td>Everyone</td>\n      <td>Art &amp; Design</td>\n      <td>January 7, 2018</td>\n      <td>1.0.0</td>\n      <td>4.0.3 and up</td>\n    </tr>\n    <tr>\n      <th>1</th>\n      <td>Coloring book moana</td>\n      <td>ART_AND_DESIGN</td>\n      <td>3.9</td>\n      <td>967</td>\n      <td>14M</td>\n      <td>500,000+</td>\n      <td>Free</td>\n      <td>0</td>\n      <td>Everyone</td>\n      <td>Art &amp; Design;Pretend Play</td>\n      <td>January 15, 2018</td>\n      <td>2.0.0</td>\n      <td>4.0.3 and up</td>\n    </tr>\n    <tr>\n      <th>2</th>\n      <td>U Launcher Lite – FREE Live Cool Themes, Hide ...</td>\n      <td>ART_AND_DESIGN</td>\n      <td>4.7</td>\n      <td>87510</td>\n      <td>8.7M</td>\n      <td>5,000,000+</td>\n      <td>Free</td>\n      <td>0</td>\n      <td>Everyone</td>\n      <td>Art &amp; Design</td>\n      <td>August 1, 2018</td>\n      <td>1.2.4</td>\n      <td>4.0.3 and up</td>\n    </tr>\n    <tr>\n      <th>3</th>\n      <td>Sketch - Draw &amp; Paint</td>\n      <td>ART_AND_DESIGN</td>\n      <td>4.5</td>\n      <td>215644</td>\n      <td>25M</td>\n      <td>50,000,000+</td>\n      <td>Free</td>\n      <td>0</td>\n      <td>Teen</td>\n      <td>Art &amp; Design</td>\n      <td>June 8, 2018</td>\n      <td>Varies with device</td>\n      <td>4.2 and up</td>\n    </tr>\n    <tr>\n      <th>4</th>\n      <td>Pixel Draw - Number Art Coloring Book</td>\n      <td>ART_AND_DESIGN</td>\n      <td>4.3</td>\n      <td>967</td>\n      <td>2.8M</td>\n      <td>100,000+</td>\n      <td>Free</td>\n      <td>0</td>\n      <td>Everyone</td>\n      <td>Art &amp; Design;Creativity</td>\n      <td>June 20, 2018</td>\n      <td>1.1</td>\n      <td>4.4 and up</td>\n    </tr>\n  </tbody>\n</table>\n</div>"
                    },
                    "metadata": {},
                    "execution_count": 3,
                    "output_type": "execute_result"
                }
            ],
            "execution_count": 3
        },
        {
            "cell_type": "code",
            "source": [
                "df.shape"
            ],
            "metadata": {
                "azdata_cell_guid": "9f15034c-7282-4250-a809-7f25191b6921"
            },
            "outputs": [
                {
                    "data": {
                        "text/plain": "(10841, 13)"
                    },
                    "metadata": {},
                    "execution_count": 4,
                    "output_type": "execute_result"
                }
            ],
            "execution_count": 4
        },
        {
            "cell_type": "markdown",
            "source": [
                "## Define Datatype and fix it"
            ],
            "metadata": {
                "azdata_cell_guid": "17a209e0-59d2-42fe-aa97-f5873fb64e86"
            },
            "attachments": {}
        },
        {
            "cell_type": "code",
            "source": [
                "df.info()\r\n",
                "## info in 'reviews' coloumn must be a float, and why is 'object' datatype, so we define what wrong in coloumn review "
            ],
            "metadata": {
                "azdata_cell_guid": "754bb809-2120-4edd-87d0-a5120612dc96"
            },
            "outputs": [
                {
                    "name": "stdout",
                    "text": "<class 'pandas.core.frame.DataFrame'>\nRangeIndex: 10841 entries, 0 to 10840\nData columns (total 13 columns):\n #   Column          Non-Null Count  Dtype  \n---  ------          --------------  -----  \n 0   App             10841 non-null  object \n 1   Category        10841 non-null  object \n 2   Rating          9367 non-null   float64\n 3   Reviews         10841 non-null  object \n 4   Size            10841 non-null  object \n 5   Installs        10841 non-null  object \n 6   Type            10840 non-null  object \n 7   Price           10841 non-null  object \n 8   Content Rating  10840 non-null  object \n 9   Genres          10841 non-null  object \n 10  Last Updated    10841 non-null  object \n 11  Current Ver     10833 non-null  object \n 12  Android Ver     10838 non-null  object \ndtypes: float64(1), object(12)\nmemory usage: 1.1+ MB\n",
                    "output_type": "stream"
                }
            ],
            "execution_count": 5
        },
        {
            "cell_type": "code",
            "source": [
                "df[~df['Reviews'].str.isdigit()] ## is find in id '10471' in reviews is nota float "
            ],
            "metadata": {
                "azdata_cell_guid": "b30b4e11-0525-4855-862a-61b2e101f1f8"
            },
            "outputs": [
                {
                    "data": {
                        "text/plain": "                                           App Category  Rating Reviews  \\\n10472  Life Made WI-Fi Touchscreen Photo Frame      1.9    19.0    3.0M   \n\n         Size Installs Type     Price Content Rating             Genres  \\\n10472  1,000+     Free    0  Everyone            NaN  February 11, 2018   \n\n      Last Updated Current Ver Android Ver  \n10472       1.0.19  4.0 and up         NaN  ",
                        "text/html": "<div>\n<style scoped>\n    .dataframe tbody tr th:only-of-type {\n        vertical-align: middle;\n    }\n\n    .dataframe tbody tr th {\n        vertical-align: top;\n    }\n\n    .dataframe thead th {\n        text-align: right;\n    }\n</style>\n<table border=\"1\" class=\"dataframe\">\n  <thead>\n    <tr style=\"text-align: right;\">\n      <th></th>\n      <th>App</th>\n      <th>Category</th>\n      <th>Rating</th>\n      <th>Reviews</th>\n      <th>Size</th>\n      <th>Installs</th>\n      <th>Type</th>\n      <th>Price</th>\n      <th>Content Rating</th>\n      <th>Genres</th>\n      <th>Last Updated</th>\n      <th>Current Ver</th>\n      <th>Android Ver</th>\n    </tr>\n  </thead>\n  <tbody>\n    <tr>\n      <th>10472</th>\n      <td>Life Made WI-Fi Touchscreen Photo Frame</td>\n      <td>1.9</td>\n      <td>19.0</td>\n      <td>3.0M</td>\n      <td>1,000+</td>\n      <td>Free</td>\n      <td>0</td>\n      <td>Everyone</td>\n      <td>NaN</td>\n      <td>February 11, 2018</td>\n      <td>1.0.19</td>\n      <td>4.0 and up</td>\n      <td>NaN</td>\n    </tr>\n  </tbody>\n</table>\n</div>"
                    },
                    "metadata": {},
                    "execution_count": 6,
                    "output_type": "execute_result"
                }
            ],
            "execution_count": 6
        },
        {
            "cell_type": "code",
            "source": [
                "df = df.drop(index = 10472) ##drop label with index 10472"
            ],
            "metadata": {
                "azdata_cell_guid": "7a8500a6-9f96-4116-863d-dce4a6c77816"
            },
            "outputs": [],
            "execution_count": 7
        },
        {
            "cell_type": "code",
            "source": [
                "df.shape #now has a 10840 rows"
            ],
            "metadata": {
                "azdata_cell_guid": "bfe6611f-9f3d-41c2-b32c-93ef8426ab8e"
            },
            "outputs": [
                {
                    "data": {
                        "text/plain": "(10840, 13)"
                    },
                    "metadata": {},
                    "execution_count": 8,
                    "output_type": "execute_result"
                }
            ],
            "execution_count": 8
        },
        {
            "cell_type": "code",
            "source": [
                "df[\"Reviews\"] = df[\"Reviews\"].astype('float64') ## Change datatype 'Reviews'\r\n",
                "df.info()"
            ],
            "metadata": {
                "azdata_cell_guid": "7c61a74f-b58b-4917-bb0d-3f375a9c9fed"
            },
            "outputs": [
                {
                    "name": "stdout",
                    "text": "<class 'pandas.core.frame.DataFrame'>\nInt64Index: 10840 entries, 0 to 10840\nData columns (total 13 columns):\n #   Column          Non-Null Count  Dtype  \n---  ------          --------------  -----  \n 0   App             10840 non-null  object \n 1   Category        10840 non-null  object \n 2   Rating          9366 non-null   float64\n 3   Reviews         10840 non-null  float64\n 4   Size            10840 non-null  object \n 5   Installs        10840 non-null  object \n 6   Type            10839 non-null  object \n 7   Price           10840 non-null  object \n 8   Content Rating  10840 non-null  object \n 9   Genres          10840 non-null  object \n 10  Last Updated    10840 non-null  object \n 11  Current Ver     10832 non-null  object \n 12  Android Ver     10838 non-null  object \ndtypes: float64(2), object(11)\nmemory usage: 1.2+ MB\n",
                    "output_type": "stream"
                }
            ],
            "execution_count": 9
        },
        {
            "cell_type": "code",
            "source": [
                "df.describe()"
            ],
            "metadata": {
                "azdata_cell_guid": "72714f75-c23d-4afd-af23-b69ad16a09c7"
            },
            "outputs": [
                {
                    "data": {
                        "text/plain": "            Rating       Reviews\ncount  9366.000000  1.084000e+04\nmean      4.191757  4.441529e+05\nstd       0.515219  2.927761e+06\nmin       1.000000  0.000000e+00\n25%       4.000000  3.800000e+01\n50%       4.300000  2.094000e+03\n75%       4.500000  5.477550e+04\nmax       5.000000  7.815831e+07",
                        "text/html": "<div>\n<style scoped>\n    .dataframe tbody tr th:only-of-type {\n        vertical-align: middle;\n    }\n\n    .dataframe tbody tr th {\n        vertical-align: top;\n    }\n\n    .dataframe thead th {\n        text-align: right;\n    }\n</style>\n<table border=\"1\" class=\"dataframe\">\n  <thead>\n    <tr style=\"text-align: right;\">\n      <th></th>\n      <th>Rating</th>\n      <th>Reviews</th>\n    </tr>\n  </thead>\n  <tbody>\n    <tr>\n      <th>count</th>\n      <td>9366.000000</td>\n      <td>1.084000e+04</td>\n    </tr>\n    <tr>\n      <th>mean</th>\n      <td>4.191757</td>\n      <td>4.441529e+05</td>\n    </tr>\n    <tr>\n      <th>std</th>\n      <td>0.515219</td>\n      <td>2.927761e+06</td>\n    </tr>\n    <tr>\n      <th>min</th>\n      <td>1.000000</td>\n      <td>0.000000e+00</td>\n    </tr>\n    <tr>\n      <th>25%</th>\n      <td>4.000000</td>\n      <td>3.800000e+01</td>\n    </tr>\n    <tr>\n      <th>50%</th>\n      <td>4.300000</td>\n      <td>2.094000e+03</td>\n    </tr>\n    <tr>\n      <th>75%</th>\n      <td>4.500000</td>\n      <td>5.477550e+04</td>\n    </tr>\n    <tr>\n      <th>max</th>\n      <td>5.000000</td>\n      <td>7.815831e+07</td>\n    </tr>\n  </tbody>\n</table>\n</div>"
                    },
                    "metadata": {},
                    "execution_count": 10,
                    "output_type": "execute_result"
                }
            ],
            "execution_count": 10
        },
        {
            "cell_type": "markdown",
            "source": [
                "## Find & Drop missing values"
            ],
            "metadata": {
                "azdata_cell_guid": "be373533-80ff-4da4-816f-108fd75c71d4"
            },
            "attachments": {}
        },
        {
            "cell_type": "code",
            "source": [
                "df.isnull().sum() #Define null value "
            ],
            "metadata": {
                "azdata_cell_guid": "18d8f041-a53c-401a-af95-4f76d6e87df0"
            },
            "outputs": [
                {
                    "data": {
                        "text/plain": "App                  0\nCategory             0\nRating            1474\nReviews              0\nSize                 0\nInstalls             0\nType                 1\nPrice                0\nContent Rating       0\nGenres               0\nLast Updated         0\nCurrent Ver          8\nAndroid Ver          2\ndtype: int64"
                    },
                    "metadata": {},
                    "execution_count": 11,
                    "output_type": "execute_result"
                }
            ],
            "execution_count": 11
        },
        {
            "cell_type": "code",
            "source": [
                "df = df.dropna() ## Drop null value"
            ],
            "metadata": {
                "azdata_cell_guid": "3b8aaaeb-38dc-4a30-9438-085cb40ab5a7"
            },
            "outputs": [],
            "execution_count": 12
        },
        {
            "cell_type": "code",
            "source": [
                "df.shape ## Now df has a 9360 values"
            ],
            "metadata": {
                "azdata_cell_guid": "018f2913-3ad1-4092-856a-5a39f5509e2d"
            },
            "outputs": [
                {
                    "data": {
                        "text/plain": "(9360, 13)"
                    },
                    "metadata": {},
                    "execution_count": 13,
                    "output_type": "execute_result"
                }
            ],
            "execution_count": 13
        },
        {
            "cell_type": "markdown",
            "source": [
                "## Drop Duplicated"
            ],
            "metadata": {
                "azdata_cell_guid": "532bf6f4-45e7-4fcd-b3ca-5b64e3d9a10a"
            },
            "attachments": {}
        },
        {
            "cell_type": "code",
            "source": [
                "df.duplicated().sum() "
            ],
            "metadata": {
                "azdata_cell_guid": "0b4847fb-c282-4f2d-b4db-a250b88344ad"
            },
            "outputs": [
                {
                    "data": {
                        "text/plain": "474"
                    },
                    "metadata": {},
                    "execution_count": 14,
                    "output_type": "execute_result"
                }
            ],
            "execution_count": 14
        },
        {
            "cell_type": "code",
            "source": [
                "df = df.drop_duplicates()  \r\n",
                "df.shape"
            ],
            "metadata": {
                "azdata_cell_guid": "e2d33577-4394-4bc5-aa73-297ad4392684",
                "tags": []
            },
            "outputs": [
                {
                    "data": {
                        "text/plain": "(8886, 13)"
                    },
                    "metadata": {},
                    "execution_count": 15,
                    "output_type": "execute_result"
                }
            ],
            "execution_count": 15
        },
        {
            "cell_type": "markdown",
            "source": [
                "## Find correlation and outlier"
            ],
            "metadata": {
                "azdata_cell_guid": "a51e23bc-a20f-4c4a-80aa-f6bead7cf03d"
            },
            "attachments": {}
        },
        {
            "cell_type": "code",
            "source": [
                "from datetime import timedelta\r\n",
                "import datetime "
            ],
            "metadata": {
                "azdata_cell_guid": "6e080a1a-c705-4fef-84e8-90a0424e0652"
            },
            "outputs": [],
            "execution_count": 16
        },
        {
            "cell_type": "code",
            "source": [
                "df[\"Last Updated\"]=pd.to_datetime(df[\"Last Updated\"]) ## Change value in datetime by input pd command"
            ],
            "metadata": {
                "azdata_cell_guid": "8dc6d501-9693-4a60-8870-a1f095c5d9cf"
            },
            "outputs": [],
            "execution_count": 17
        },
        {
            "cell_type": "code",
            "source": [
                "df[\"Last Updated\"]"
            ],
            "metadata": {
                "azdata_cell_guid": "569c6421-bf99-44f2-bf2c-7ec9ae3dfd05"
            },
            "outputs": [
                {
                    "data": {
                        "text/plain": "0       2018-01-07\n1       2018-01-15\n2       2018-08-01\n3       2018-06-08\n4       2018-06-20\n           ...    \n10834   2017-06-18\n10836   2017-07-25\n10837   2018-07-06\n10839   2015-01-19\n10840   2018-07-25\nName: Last Updated, Length: 8886, dtype: datetime64[ns]"
                    },
                    "metadata": {},
                    "execution_count": 18,
                    "output_type": "execute_result"
                }
            ],
            "execution_count": 18
        },
        {
            "cell_type": "code",
            "source": [
                "df['Year'] = df['Last Updated'].dt.strftime('%Y') ##Extract Year"
            ],
            "metadata": {
                "azdata_cell_guid": "3f6803f6-6e51-473d-8602-903322dd2793"
            },
            "outputs": [],
            "execution_count": 19
        },
        {
            "cell_type": "code",
            "source": [
                "df['Month'] = df['Last Updated'].dt.strftime('%m') ##Extract Month"
            ],
            "metadata": {
                "azdata_cell_guid": "26c11034-d5e4-4425-93d5-4b8df1d47e48"
            },
            "outputs": [],
            "execution_count": 20
        },
        {
            "cell_type": "markdown",
            "source": [
                "### To find correlation in each year, datatype in year must be change"
            ],
            "metadata": {
                "azdata_cell_guid": "deada788-1ce6-4509-b91e-d5076cc6794d"
            },
            "attachments": {}
        },
        {
            "cell_type": "code",
            "source": [
                "df[\"Month\"] = df[\"Month\"].astype('Int64')"
            ],
            "metadata": {
                "azdata_cell_guid": "aa309736-8faf-4e51-a800-80d3084fb88f"
            },
            "outputs": [],
            "execution_count": 32
        },
        {
            "cell_type": "code",
            "source": [
                "df[\"Year\"] = df[\"Year\"].astype('Int64')"
            ],
            "metadata": {
                "azdata_cell_guid": "31fd222e-f2c9-49e6-b05b-5aa05b1a9f90"
            },
            "outputs": [],
            "execution_count": 33
        },
        {
            "cell_type": "code",
            "source": [
                "df.info()"
            ],
            "metadata": {
                "azdata_cell_guid": "e0cbcba4-b478-485c-a257-3cc6af1094b6"
            },
            "outputs": [
                {
                    "name": "stdout",
                    "text": "<class 'pandas.core.frame.DataFrame'>\nInt64Index: 8886 entries, 0 to 10840\nData columns (total 15 columns):\n #   Column          Non-Null Count  Dtype         \n---  ------          --------------  -----         \n 0   App             8886 non-null   object        \n 1   Category        8886 non-null   object        \n 2   Rating          8886 non-null   float64       \n 3   Reviews         8886 non-null   float64       \n 4   Size            8886 non-null   object        \n 5   Installs        8886 non-null   object        \n 6   Type            8886 non-null   object        \n 7   Price           8886 non-null   object        \n 8   Content Rating  8886 non-null   object        \n 9   Genres          8886 non-null   object        \n 10  Last Updated    8886 non-null   datetime64[ns]\n 11  Current Ver     8886 non-null   object        \n 12  Android Ver     8886 non-null   object        \n 13  Year            8886 non-null   Int64         \n 14  Month           8886 non-null   Int64         \ndtypes: Int64(2), datetime64[ns](1), float64(2), object(10)\nmemory usage: 1.1+ MB\n",
                    "output_type": "stream"
                }
            ],
            "execution_count": 34
        },
        {
            "cell_type": "code",
            "source": [
                "sn.lineplot(data=df, x=df[\"Year\"], y='Reviews')"
            ],
            "metadata": {
                "azdata_cell_guid": "a6c90aae-702d-44d0-a1d0-72e71aedf07c",
                "tags": []
            },
            "outputs": [
                {
                    "data": {
                        "text/plain": "<Figure size 432x288 with 1 Axes>",
                        "image/png": "[encoded data removed]"
                    },
                    "metadata": {
                        "needs_background": "light"
                    },
                    "output_type": "display_data"
                },
                {
                    "data": {
                        "text/plain": "<AxesSubplot:xlabel='Year', ylabel='Reviews'>"
                    },
                    "metadata": {},
                    "execution_count": 37,
                    "output_type": "execute_result"
                }
            ],
            "execution_count": 37
        },
        {
            "cell_type": "code",
            "source": [
                "sn.lineplot(data=df, x=\"Month\", y='Reviews', ci=None)"
            ],
            "metadata": {
                "azdata_cell_guid": "53d190fe-5940-44de-b021-18475ccc11d7"
            },
            "outputs": [
                {
                    "data": {
                        "text/plain": "<Figure size 432x288 with 1 Axes>",
                        "image/png": "[encoded data removed]"
                    },
                    "metadata": {
                        "needs_background": "light"
                    },
                    "output_type": "display_data"
                },
                {
                    "data": {
                        "text/plain": "<AxesSubplot:xlabel='Month', ylabel='Reviews'>"
                    },
                    "metadata": {},
                    "execution_count": 36,
                    "output_type": "execute_result"
                }
            ],
            "execution_count": 36
        },
        {
            "cell_type": "code",
            "source": [
                "df.corr()"
            ],
            "metadata": {
                "azdata_cell_guid": "eaa6791d-3384-4e3b-a372-28d96b2f7ef3"
            },
            "outputs": [
                {
                    "data": {
                        "text/plain": "           Rating   Reviews      Year     Month\nRating   1.000000  0.068724  0.136711  0.016984\nReviews  0.068724  1.000000  0.078947  0.047785\nYear     0.136711  0.078947  1.000000 -0.175008\nMonth    0.016984  0.047785 -0.175008  1.000000",
                        "text/html": "<div>\n<style scoped>\n    .dataframe tbody tr th:only-of-type {\n        vertical-align: middle;\n    }\n\n    .dataframe tbody tr th {\n        vertical-align: top;\n    }\n\n    .dataframe thead th {\n        text-align: right;\n    }\n</style>\n<table border=\"1\" class=\"dataframe\">\n  <thead>\n    <tr style=\"text-align: right;\">\n      <th></th>\n      <th>Rating</th>\n      <th>Reviews</th>\n      <th>Year</th>\n      <th>Month</th>\n    </tr>\n  </thead>\n  <tbody>\n    <tr>\n      <th>Rating</th>\n      <td>1.000000</td>\n      <td>0.068724</td>\n      <td>0.136711</td>\n      <td>0.016984</td>\n    </tr>\n    <tr>\n      <th>Reviews</th>\n      <td>0.068724</td>\n      <td>1.000000</td>\n      <td>0.078947</td>\n      <td>0.047785</td>\n    </tr>\n    <tr>\n      <th>Year</th>\n      <td>0.136711</td>\n      <td>0.078947</td>\n      <td>1.000000</td>\n      <td>-0.175008</td>\n    </tr>\n    <tr>\n      <th>Month</th>\n      <td>0.016984</td>\n      <td>0.047785</td>\n      <td>-0.175008</td>\n      <td>1.000000</td>\n    </tr>\n  </tbody>\n</table>\n</div>"
                    },
                    "metadata": {},
                    "execution_count": 26,
                    "output_type": "execute_result"
                }
            ],
            "execution_count": 26
        },
        {
            "cell_type": "code",
            "source": [
                "sn.heatmap(df.corr(), annot=True)"
            ],
            "metadata": {
                "azdata_cell_guid": "56cfb7fa-80dd-4bae-a0e9-9b6881f44361"
            },
            "outputs": [
                {
                    "data": {
                        "text/plain": "<Figure size 432x288 with 2 Axes>",
                        "image/png": "[encoded data removed]"
                    },
                    "metadata": {
                        "needs_background": "light"
                    },
                    "output_type": "display_data"
                },
                {
                    "data": {
                        "text/plain": "<AxesSubplot:>"
                    },
                    "metadata": {},
                    "execution_count": 27,
                    "output_type": "execute_result"
                }
            ],
            "execution_count": 27
        },
        {
            "cell_type": "code",
            "source": [
                "df.shape"
            ],
            "metadata": {
                "azdata_cell_guid": "cd01ca3a-3ed5-456c-a064-54ad3e1bee58"
            },
            "outputs": [
{
    "data": {
        "text/plain": "(8886, 15)"
    },
    "metadata": {},
    "execution_count": 40,
    "output_type": "execute_result"
}
],
            "execution_count": 40
        },
        {
            "cell_type": "code",
            "source": [
                "df.to_csv(r'E:\\Portofolio\\Sql Project 3\\Data_Clean.csv', index = False) ## Import data cleaned"
            ],
            "metadata": {
                "azdata_cell_guid": "648e668c-2250-416c-9c6b-2ecd2b5c9bb7"
            },
            "outputs": [],
            "execution_count": 38
        }
    ]
}