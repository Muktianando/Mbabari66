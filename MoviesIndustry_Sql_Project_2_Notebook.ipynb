{
    "metadata": {
        "kernelspec": {
            "name": "SQL",
            "display_name": "SQL",
            "language": "sql"
        },
        "language_info": {
            "name": "sql",
            "version": ""
        }
    },
    "nbformat_minor": 2,
    "nbformat": 4,
    "cells": [
        {
            "cell_type": "markdown",
            "source": [
                "Name = Muktianando\n",
                "\n",
                "Project = \"Movies Analysis\"\n",
                "\n",
                "date = Mar 22, 2022\n",
                "\n",
                "Source data = https://www.kaggle.com/haffizzanibrahim/movie-cleaning-finding-correlation/data"
            ],
            "metadata": {
                "azdata_cell_guid": "90025958-94b2-46b3-94de-7286128f06e3"
            },
            "attachments": {}
        },
        {
            "cell_type": "markdown",
            "source": [
                "# Ask"
            ],
            "metadata": {
                "azdata_cell_guid": "6c8d5edb-de2a-45a5-9f67-d86e2f8fe20d"
            },
            "attachments": {}
        },
        {
            "cell_type": "markdown",
            "source": [
                "grogrofrom that table i tried the insight from movies data. source data came from scrapped data in imdb. and it distributed in 15 coloum include infrormation about rating and value from each movie. based on that information i tried to find insight include :\n",
                "\n",
                "-  <span style=\"background-color: rgba(127, 127, 127, 0.1);\">&nbsp;what best favourite genre movie ?</span>\n",
                "-  <span style=\"background-color: rgba(127, 127, 127, 0.1);\">&nbsp;who best star movie all the time ?</span>\n",
                "-  <span style=\"background-color: rgba(127, 127, 127, 0.1);\">&nbsp;How many company produce film each year&nbsp; ?</span>\n",
                "- <span style=\"background-color: rgba(127, 127, 127, 0.1);\">Most expensive movies all the time ?</span>\n",
                "- <span style=\"background-color: rgba(127, 127, 127, 0.1);\">Most profitable movies all the time ?</span>\n",
                "- <span style=\"background-color: rgba(127, 127, 127, 0.1);\">Most popular moviea all the time&nbsp;</span> ?\n",
                "\n",
                "<span style=\"font-size: 14px;\">Beside that insight i want to know what the correlation about variable in coloumn such as&nbsp;</span> \n",
                "\n",
                "- <span style=\"font-size: 14px;\">budget for gross</span>\n",
                "- score for gross"
            ],
            "metadata": {
                "azdata_cell_guid": "a2e8207a-d85e-4265-aed6-a9bde7f1bc25"
            },
            "attachments": {}
        },
        {
            "cell_type": "markdown",
            "source": [
                "# Prepare and Process"
            ],
            "metadata": {
                "azdata_cell_guid": "88f8d4bd-b45e-47c6-b739-9aca49d7e2cb"
            },
            "attachments": {}
        },
        {
            "cell_type": "code",
            "source": [
                "/* select database and use movie table \r\n",
                "*/\r\n",
                "\r\n",
                "use Movies ;\r\n",
                "\r\n",
                "select * from movies$ ;\r\n",
                ""
            ],
            "metadata": {
                "azdata_cell_guid": "8c8bfdbe-fbb1-46cd-a2e4-38e89590e308",
                "tags": [
                    "hide_input"
                ]
            },
            "outputs": [],
            "execution_count": null
        },
        {
            "cell_type": "code",
            "source": [
                "/* check data type in every coloumn \r\n",
                "*/\r\n",
                "\r\n",
                "SELECT COLUMN_NAME, \r\n",
                "\tDATA_TYPE, \r\n",
                "    IS_NULLABLE, \r\n",
                "    CHARACTER_MAXIMUM_LENGTH, \r\n",
                "    NUMERIC_PRECISION, \r\n",
                "    NUMERIC_SCALE \r\n",
                "FROM Movies.INFORMATION_SCHEMA.COLUMNS\r\n",
                "WHERE TABLE_NAME='movies$';"
            ],
            "metadata": {
                "azdata_cell_guid": "11247acb-a4f6-4dae-a177-55d35d0e0a9a",
                "tags": [
                    "hide_input"
                ]
            },
            "outputs": [],
            "execution_count": null
        },
        {
            "cell_type": "code",
            "source": [
                "--- Find missing values\r\n",
                "\r\n",
                "select \r\n",
                "    sum(case when name is NULL then 1 else 0 end) as 'name',\r\n",
                "    sum(case when rating is null then 1 else 0 end) as 'rating',\r\n",
                "    sum(case when genre is null then 1 else 0 end) as 'genre',\r\n",
                "    sum(case when year is null then 1 else 0 end) as 'year',\r\n",
                "    sum(case when released is null then 1 else 0 end) as 'released',\r\n",
                "    sum(case when score is null then 1 else 0 end) as 'score',\r\n",
                "    sum(case when votes is null then 1 else 0 end) as 'votes',\r\n",
                "    sum(case when director is null then 1 else 0 end) as 'director',\r\n",
                "    sum(case when writer is null then 1 else 0 end) as 'writer',\r\n",
                "    sum(case when star is null then 1 else 0 end) as 'star',\r\n",
                "    sum(case when country is null then 1 else 0 end) as 'country',\r\n",
                "    sum(case when budget is null then 1 else 0 end) as 'budget',\r\n",
                "    sum(case when gross is null then 1 else 0 end) as 'gross',\r\n",
                "    sum(case when company is null then 1 else 0 end) as 'company',\r\n",
                "    sum(case when runtime is null then 1 else 0 end) as 'runtime'\r\n",
                "from dbo.[movies$] \r\n",
                ""
            ],
            "metadata": {
                "azdata_cell_guid": "e45a058c-40a6-4aee-a55b-1cbfc929df85",
                "tags": [
                    "hide_input"
                ]
            },
            "outputs": [],
            "execution_count": null
        },
        {
            "cell_type": "code",
            "source": [
                "/* Drop missing value \r\n",
                "*/\r\n",
                "\r\n",
                "Delete \r\n",
                "    from dbo.[movies$]\r\n",
                "where \r\n",
                "    rating is null or\r\n",
                "    released is null or\r\n",
                "    score is null or \r\n",
                "    votes is null or \r\n",
                "    writer is null or \r\n",
                "    star is null or \r\n",
                "    country is null or \r\n",
                "    budget is null or \r\n",
                "    gross is null or \r\n",
                "    company is null or \r\n",
                "    runtime is null ;"
            ],
            "metadata": {
                "azdata_cell_guid": "b90c1694-6741-42a9-a36a-53cb82d1827b",
                "tags": [
                    "hide_input"
                ]
            },
            "outputs": [],
            "execution_count": null
        },
        {
            "cell_type": "code",
            "source": [
                "--- Delete duplicates cell \r\n",
                "\r\n",
                "select \r\n",
                "    *\r\n",
                "FROM dbo.[movies$] \r\n",
                "group by \r\n",
                "    name,\r\n",
                "    rating,\r\n",
                "    genre,\r\n",
                "    year,\r\n",
                "    released,\r\n",
                "    score,\r\n",
                "    votes,\r\n",
                "    director,\r\n",
                "    writer,\r\n",
                "    star,\r\n",
                "    country,\r\n",
                "    budget,\r\n",
                "    gross,\r\n",
                "    company,\r\n",
                "    runtime\r\n",
                "having count(*) > 1"
            ],
            "metadata": {
                "azdata_cell_guid": "38fc260d-254d-412c-9a27-f74df6b63451",
                "tags": [
                    "hide_input"
                ]
            },
            "outputs": [],
            "execution_count": null
        },
        {
            "cell_type": "markdown",
            "source": [
                "#                                                               Analyze Data"
            ],
            "metadata": {
                "azdata_cell_guid": "da66a97a-e5f9-4474-b8fb-3099b57609f1"
            },
            "attachments": {}
        },
        {
            "cell_type": "code",
            "source": [
                "--- What favourite genre movie aech year \r\n",
                "\r\n",
                "select \r\n",
                "    genre,\r\n",
                "    count(genre) as total_Genre\r\n",
                "from dbo.[movies$]\r\n",
                "group by genre\r\n",
                "order by total_Genre DESC"
            ],
            "metadata": {
                "azdata_cell_guid": "9dbc3e00-2478-4e6b-9742-b617177c2be2",
                "tags": [
                    "hide_input"
                ]
            },
            "outputs": [],
            "execution_count": null
        },
        {
            "cell_type": "code",
            "source": [
                "--- Who best star movie ?\r\n",
                "\r\n",
                "select top 10\r\n",
                "    star,\r\n",
                "    count(star) as total_plays\r\n",
                "from dbo.[movies$]\r\n",
                "GROUP by star \r\n",
                "order by total_plays DESC"
            ],
            "metadata": {
                "azdata_cell_guid": "73061e78-159a-4fe4-8dff-e62a0fa75bbb",
                "tags": [
                    "hide_input"
                ]
            },
            "outputs": [],
            "execution_count": null
        },
        {
            "cell_type": "code",
            "source": [
                "--- How many comapny produce film each year ?\r\n",
                "\r\n",
                "select TOP 10\r\n",
                "    company,\r\n",
                "    count(name) as total_movies\r\n",
                "from dbo.[movies$]\r\n",
                "group by company \r\n",
                "order by total_movies DESC "
            ],
            "metadata": {
                "azdata_cell_guid": "2fa9a0bf-8c1e-479a-af2a-98ee455d241f",
                "tags": [
                    "hide_input"
                ]
            },
            "outputs": [],
            "execution_count": null
        },
        {
            "cell_type": "code",
            "source": [
                "--- mMost Expensive movies all the time\r\n",
                "\r\n",
                "SELECT TOP 20\r\n",
                "    name,\r\n",
                "    company,\r\n",
                "    budget,\r\n",
                "    gross\r\n",
                "from dbo.[movies$]\r\n",
                "order by budget desc "
            ],
            "metadata": {
                "azdata_cell_guid": "7fb32deb-059a-4f31-bb76-8680b4d1acc2",
                "tags": [
                    "hide_input"
                ]
            },
            "outputs": [],
            "execution_count": null
        },
        {
            "cell_type": "code",
            "source": [
                "--- most profitable movies all the time\r\n",
                "\r\n",
                "select top 20 \r\n",
                "    name,\r\n",
                "    company,\r\n",
                "    year,\r\n",
                "    (gross-budget) as profit_margin\r\n",
                "from \r\n",
                "    dbo.[movies$]\r\n",
                "order by profit_margin DESC"
            ],
            "metadata": {
                "azdata_cell_guid": "8c70b0e7-9092-4647-b977-7eb5d0fc5bbc",
                "tags": [
                    "hide_input"
                ]
            },
            "outputs": [],
            "execution_count": null
        },
        {
            "cell_type": "code",
            "source": [
                "---  Most popular movies all the time ?\r\n",
                "\r\n",
                "SELECT top 20\r\n",
                "    name,\r\n",
                "    score\r\n",
                "from \r\n",
                "    dbo.[movies$] a \r\n",
                "order by Score DESC \r\n",
                ""
            ],
            "metadata": {
                "azdata_cell_guid": "a75a7d6b-0eb8-40ab-a5ef-f3a402b380f8",
                "tags": [
                    "hide_input"
                ]
            },
            "outputs": [],
            "execution_count": null
        },
        {
            "cell_type": "markdown",
            "source": [
                "- Find correlation each variable\n",
                "\n",
                "For finding value correlation between variable i used method 'pearson' correlation \n",
                "\n",
                ">"
            ],
            "metadata": {
                "azdata_cell_guid": "7d0ff464-178e-4d7b-bc62-9158413bf924"
            },
            "attachments": {}
        },
        {
            "cell_type": "code",
            "source": [
                "--- Budgets for gross\r\n",
                "\r\n",
                "select \r\n",
                "    ((a.tot_sum*cnt-(a.amt_budget*a.amt_gross))) / SQRT(((cnt*A.act_budget-POWER(a.amt_budget,2)) * (cnt*a.act_gross)-POWER(a.amt_gross,2))) as Correlation\r\n",
                "from\r\n",
                "    (select \r\n",
                "        sum(budget * gross) as tot_sum,\r\n",
                "        sum(budget) as amt_budget,\r\n",
                "        sum(gross) as amt_gross,\r\n",
                "        sum(budget*budget) as act_budget,\r\n",
                "        sum(gross*gross) as act_gross,\r\n",
                "        count(*) as cnt \r\n",
                "    from \r\n",
                "         dbo.[movies$]) a "
            ],
            "metadata": {
                "azdata_cell_guid": "35b634b5-46d3-4315-8c91-9f63ee37dfd4",
                "tags": [
                    "hide_input"
                ]
            },
            "outputs": [],
            "execution_count": null
        },
        {
            "cell_type": "code",
            "source": [
                "--- Score vs gross\r\n",
                "\r\n",
                "select \r\n",
                "    ((a.tot_sum*cnt-(a.amt_score*a.amt_gross))) / SQRT(((cnt*A.act_score-POWER(a.amt_score,2)) * (cnt*a.act_gross)-POWER(a.amt_gross,2))) as Correlation\r\n",
                "from\r\n",
                "    (select \r\n",
                "        sum(score * gross) as tot_sum,\r\n",
                "        sum(score) as amt_score,\r\n",
                "        sum(gross) as amt_gross,\r\n",
                "        sum(score*score) as act_score,\r\n",
                "        sum(gross*gross) as act_gross,\r\n",
                "        count(*) as cnt \r\n",
                "    from \r\n",
                "         dbo.[movies$]) a "
            ],
            "metadata": {
                "azdata_cell_guid": "43e30768-8a76-42c2-9716-1d4627ff4266",
                "tags": [
                    "hide_input"
                ]
            },
            "outputs": [],
            "execution_count": null
        },
        {
            "cell_type": "code",
            "source": [
                "--- Votes for gross\r\n",
                "\r\n",
                "select \r\n",
                "    ((a.tot_sum*cnt-(a.amt_votes*a.amt_gross))) / SQRT(((cnt*A.act_votes-POWER(a.amt_votes,2)) * (cnt*a.act_gross)-POWER(a.amt_gross,2))) as Correlation\r\n",
                "from\r\n",
                "    (select \r\n",
                "        sum(votes * gross) as tot_sum,\r\n",
                "        sum(votes) as amt_votes,\r\n",
                "        sum(gross) as amt_gross,\r\n",
                "        sum(votes*votes) as act_votes,\r\n",
                "        sum(gross*gross) as act_gross,\r\n",
                "        count(*) as cnt \r\n",
                "    from \r\n",
                "         dbo.[movies$]) a "
            ],
            "metadata": {
                "azdata_cell_guid": "90f27d9f-4c9c-4f63-9c5b-925cf2611bf3",
                "tags": [
                    "hide_input"
                ]
            },
            "outputs": [],
            "execution_count": null
        }
    ]
}