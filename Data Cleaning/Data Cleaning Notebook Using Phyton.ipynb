{
    "metadata": {
        "kernelspec": {
            "name": "python3",
            "display_name": "Python 3 (ipykernel)",
            "language": "python"
        },
        "language_info": {
            "name": "python",
            "version": "3.8.10",
            "mimetype": "text/x-python",
            "codemirror_mode": {
                "name": "ipython",
                "version": 3
            },
            "pygments_lexer": "ipython3",
            "nbconvert_exporter": "python",
            "file_extension": ".py"
        }
    },
    "nbformat_minor": 2,
    "nbformat": 4,
    "cells": [
        {
            "cell_type": "markdown",
            "source": [
                "# Project : Air Bnb New York \n",
                "\n",
                "> - Data cleaning (removing outlier, change format\n",
                "> - Data analyst\n",
                "> - Data Visualisation"
            ],
            "metadata": {
                "azdata_cell_guid": "c5d1e57c-792d-4292-8472-63713fc8d259"
            },
            "attachments": {}
        },
        {
            "cell_type": "markdown",
            "source": [
                "<span style=\"color: rgb(201, 209, 217); font-family: -apple-system, BlinkMacSystemFont, &quot;Segoe UI&quot;, Helvetica, Arial, sans-serif, &quot;Apple Color Emoji&quot;, &quot;Segoe UI Emoji&quot;; font-size: 16px; background-color: rgb(13, 17, 23);\">Use this air bnb new york city&nbsp;</span> [data set](https://www.kaggle.com/dgomonov/new-york-city-airbnb-open-data/data) <span style=\"color: rgb(201, 209, 217); font-family: -apple-system, BlinkMacSystemFont, &quot;Segoe UI&quot;, Helvetica, Arial, sans-serif, &quot;Apple Color Emoji&quot;, &quot;Segoe UI Emoji&quot;; font-size: 16px; background-color: rgb(13, 17, 23);\">&nbsp;and remove outliers using percentile based on price per night for a given apartment/home. You can use suitable upper and lower limits on percentile based on your intuition. Your goal is to come up with new pandas dataframe that doesn't have the outliers present in it.</span>"
            ],
            "metadata": {
                "azdata_cell_guid": "6839d1d8-6415-4a03-a0d0-97e5fad626f6"
            },
            "attachments": {}
        },
        {
            "cell_type": "code",
            "source": [
                "import numpy as np\r\n",
                "import pandas as pd \r\n",
                "import matplotlib.pyplot as plt \r\n",
                "import seaborn as sn  "
            ],
            "metadata": {
                "azdata_cell_guid": "ffaea888-a1c5-4f79-bcdd-945ad18be63e",
                "tags": []
            },
            "outputs": [],
            "execution_count": 2
        },
        {
            "cell_type": "code",
            "source": [
                "df = pd.read_csv(r'E:\\Portofolio\\Sql Project 4\\Data\\AB_NYC_2019.csv')\r\n",
                "df.head(10)"
            ],
            "metadata": {
                "azdata_cell_guid": "1b2d1192-0a50-4303-8928-5803ca61c6ba",
                "tags": [
                    "hide_input"
                ]
            },
            "outputs": [
                {
                    "data": {
                        "text/plain": "     id                                              name  host_id  \\\n0  2539                Clean & quiet apt home by the park     2787   \n1  2595                             Skylit Midtown Castle     2845   \n2  3647               THE VILLAGE OF HARLEM....NEW YORK !     4632   \n3  3831                   Cozy Entire Floor of Brownstone     4869   \n4  5022  Entire Apt: Spacious Studio/Loft by central park     7192   \n5  5099         Large Cozy 1 BR Apartment In Midtown East     7322   \n6  5121                                   BlissArtsSpace!     7356   \n7  5178                  Large Furnished Room Near B'way      8967   \n8  5203                Cozy Clean Guest Room - Family Apt     7490   \n9  5238                Cute & Cozy Lower East Side 1 bdrm     7549   \n\n     host_name neighbourhood_group       neighbourhood  latitude  longitude  \\\n0         John            Brooklyn          Kensington  40.64749  -73.97237   \n1     Jennifer           Manhattan             Midtown  40.75362  -73.98377   \n2    Elisabeth           Manhattan              Harlem  40.80902  -73.94190   \n3  LisaRoxanne            Brooklyn        Clinton Hill  40.68514  -73.95976   \n4        Laura           Manhattan         East Harlem  40.79851  -73.94399   \n5        Chris           Manhattan         Murray Hill  40.74767  -73.97500   \n6        Garon            Brooklyn  Bedford-Stuyvesant  40.68688  -73.95596   \n7     Shunichi           Manhattan      Hell's Kitchen  40.76489  -73.98493   \n8    MaryEllen           Manhattan     Upper West Side  40.80178  -73.96723   \n9          Ben           Manhattan           Chinatown  40.71344  -73.99037   \n\n         room_type  price  minimum_nights  number_of_reviews last_review  \\\n0     Private room    149               1                  9  2018-10-19   \n1  Entire home/apt    225               1                 45  2019-05-21   \n2     Private room    150               3                  0         NaN   \n3  Entire home/apt     89               1                270  2019-07-05   \n4  Entire home/apt     80              10                  9  2018-11-19   \n5  Entire home/apt    200               3                 74  2019-06-22   \n6     Private room     60              45                 49  2017-10-05   \n7     Private room     79               2                430  2019-06-24   \n8     Private room     79               2                118  2017-07-21   \n9  Entire home/apt    150               1                160  2019-06-09   \n\n   reviews_per_month  calculated_host_listings_count  availability_365  \n0               0.21                               6               365  \n1               0.38                               2               355  \n2                NaN                               1               365  \n3               4.64                               1               194  \n4               0.10                               1                 0  \n5               0.59                               1               129  \n6               0.40                               1                 0  \n7               3.47                               1               220  \n8               0.99                               1                 0  \n9               1.33                               4               188  ",
                        "text/html": "<div>\n<style scoped>\n    .dataframe tbody tr th:only-of-type {\n        vertical-align: middle;\n    }\n\n    .dataframe tbody tr th {\n        vertical-align: top;\n    }\n\n    .dataframe thead th {\n        text-align: right;\n    }\n</style>\n<table border=\"1\" class=\"dataframe\">\n  <thead>\n    <tr style=\"text-align: right;\">\n      <th></th>\n      <th>id</th>\n      <th>name</th>\n      <th>host_id</th>\n      <th>host_name</th>\n      <th>neighbourhood_group</th>\n      <th>neighbourhood</th>\n      <th>latitude</th>\n      <th>longitude</th>\n      <th>room_type</th>\n      <th>price</th>\n      <th>minimum_nights</th>\n      <th>number_of_reviews</th>\n      <th>last_review</th>\n      <th>reviews_per_month</th>\n      <th>calculated_host_listings_count</th>\n      <th>availability_365</th>\n    </tr>\n  </thead>\n  <tbody>\n    <tr>\n      <th>0</th>\n      <td>2539</td>\n      <td>Clean &amp; quiet apt home by the park</td>\n      <td>2787</td>\n      <td>John</td>\n      <td>Brooklyn</td>\n      <td>Kensington</td>\n      <td>40.64749</td>\n      <td>-73.97237</td>\n      <td>Private room</td>\n      <td>149</td>\n      <td>1</td>\n      <td>9</td>\n      <td>2018-10-19</td>\n      <td>0.21</td>\n      <td>6</td>\n      <td>365</td>\n    </tr>\n    <tr>\n      <th>1</th>\n      <td>2595</td>\n      <td>Skylit Midtown Castle</td>\n      <td>2845</td>\n      <td>Jennifer</td>\n      <td>Manhattan</td>\n      <td>Midtown</td>\n      <td>40.75362</td>\n      <td>-73.98377</td>\n      <td>Entire home/apt</td>\n      <td>225</td>\n      <td>1</td>\n      <td>45</td>\n      <td>2019-05-21</td>\n      <td>0.38</td>\n      <td>2</td>\n      <td>355</td>\n    </tr>\n    <tr>\n      <th>2</th>\n      <td>3647</td>\n      <td>THE VILLAGE OF HARLEM....NEW YORK !</td>\n      <td>4632</td>\n      <td>Elisabeth</td>\n      <td>Manhattan</td>\n      <td>Harlem</td>\n      <td>40.80902</td>\n      <td>-73.94190</td>\n      <td>Private room</td>\n      <td>150</td>\n      <td>3</td>\n      <td>0</td>\n      <td>NaN</td>\n      <td>NaN</td>\n      <td>1</td>\n      <td>365</td>\n    </tr>\n    <tr>\n      <th>3</th>\n      <td>3831</td>\n      <td>Cozy Entire Floor of Brownstone</td>\n      <td>4869</td>\n      <td>LisaRoxanne</td>\n      <td>Brooklyn</td>\n      <td>Clinton Hill</td>\n      <td>40.68514</td>\n      <td>-73.95976</td>\n      <td>Entire home/apt</td>\n      <td>89</td>\n      <td>1</td>\n      <td>270</td>\n      <td>2019-07-05</td>\n      <td>4.64</td>\n      <td>1</td>\n      <td>194</td>\n    </tr>\n    <tr>\n      <th>4</th>\n      <td>5022</td>\n      <td>Entire Apt: Spacious Studio/Loft by central park</td>\n      <td>7192</td>\n      <td>Laura</td>\n      <td>Manhattan</td>\n      <td>East Harlem</td>\n      <td>40.79851</td>\n      <td>-73.94399</td>\n      <td>Entire home/apt</td>\n      <td>80</td>\n      <td>10</td>\n      <td>9</td>\n      <td>2018-11-19</td>\n      <td>0.10</td>\n      <td>1</td>\n      <td>0</td>\n    </tr>\n    <tr>\n      <th>5</th>\n      <td>5099</td>\n      <td>Large Cozy 1 BR Apartment In Midtown East</td>\n      <td>7322</td>\n      <td>Chris</td>\n      <td>Manhattan</td>\n      <td>Murray Hill</td>\n      <td>40.74767</td>\n      <td>-73.97500</td>\n      <td>Entire home/apt</td>\n      <td>200</td>\n      <td>3</td>\n      <td>74</td>\n      <td>2019-06-22</td>\n      <td>0.59</td>\n      <td>1</td>\n      <td>129</td>\n    </tr>\n    <tr>\n      <th>6</th>\n      <td>5121</td>\n      <td>BlissArtsSpace!</td>\n      <td>7356</td>\n      <td>Garon</td>\n      <td>Brooklyn</td>\n      <td>Bedford-Stuyvesant</td>\n      <td>40.68688</td>\n      <td>-73.95596</td>\n      <td>Private room</td>\n      <td>60</td>\n      <td>45</td>\n      <td>49</td>\n      <td>2017-10-05</td>\n      <td>0.40</td>\n      <td>1</td>\n      <td>0</td>\n    </tr>\n    <tr>\n      <th>7</th>\n      <td>5178</td>\n      <td>Large Furnished Room Near B'way</td>\n      <td>8967</td>\n      <td>Shunichi</td>\n      <td>Manhattan</td>\n      <td>Hell's Kitchen</td>\n      <td>40.76489</td>\n      <td>-73.98493</td>\n      <td>Private room</td>\n      <td>79</td>\n      <td>2</td>\n      <td>430</td>\n      <td>2019-06-24</td>\n      <td>3.47</td>\n      <td>1</td>\n      <td>220</td>\n    </tr>\n    <tr>\n      <th>8</th>\n      <td>5203</td>\n      <td>Cozy Clean Guest Room - Family Apt</td>\n      <td>7490</td>\n      <td>MaryEllen</td>\n      <td>Manhattan</td>\n      <td>Upper West Side</td>\n      <td>40.80178</td>\n      <td>-73.96723</td>\n      <td>Private room</td>\n      <td>79</td>\n      <td>2</td>\n      <td>118</td>\n      <td>2017-07-21</td>\n      <td>0.99</td>\n      <td>1</td>\n      <td>0</td>\n    </tr>\n    <tr>\n      <th>9</th>\n      <td>5238</td>\n      <td>Cute &amp; Cozy Lower East Side 1 bdrm</td>\n      <td>7549</td>\n      <td>Ben</td>\n      <td>Manhattan</td>\n      <td>Chinatown</td>\n      <td>40.71344</td>\n      <td>-73.99037</td>\n      <td>Entire home/apt</td>\n      <td>150</td>\n      <td>1</td>\n      <td>160</td>\n      <td>2019-06-09</td>\n      <td>1.33</td>\n      <td>4</td>\n      <td>188</td>\n    </tr>\n  </tbody>\n</table>\n</div>"
                    },
                    "metadata": {},
                    "execution_count": 5,
                    "output_type": "execute_result"
                }
            ],
            "execution_count": 5
        },
        {
            "cell_type": "code",
            "source": [
                "df.price.describe()"
            ],
            "metadata": {
                "azdata_cell_guid": "1908e9d6-e00f-4ad4-9f88-a9d806a3e867"
            },
            "outputs": [
                {
                    "data": {
                        "text/plain": "count    48895.000000\nmean       152.720687\nstd        240.154170\nmin          0.000000\n25%         69.000000\n50%        106.000000\n75%        175.000000\nmax      10000.000000\nName: price, dtype: float64"
                    },
                    "metadata": {},
                    "execution_count": 6,
                    "output_type": "execute_result"
                }
            ],
            "execution_count": 6
        },
        {
            "cell_type": "code",
            "source": [
                "sn.histplot(df.price, kde=True)"
            ],
            "metadata": {
                "azdata_cell_guid": "b03176af-2743-4114-93e6-24be953e9445"
            },
            "outputs": [
                {
                    "output_type": "display_data",
                    "data": {
                        "text/plain": "<Figure size 432x288 with 1 Axes>",
                        "image/png": "[encoded data removed]"
                    },
                    "metadata": {
                        "needs_background": "light"
                    }
                },
                {
                    "output_type": "execute_result",
                    "execution_count": 77,
                    "data": {
                        "text/plain": "<AxesSubplot:xlabel='price', ylabel='Count'>"
                    },
                    "metadata": {}
                }
            ],
            "execution_count": 77
        },
        {
            "cell_type": "markdown",
            "source": [
                "## Remove outlier using percentile"
            ],
            "metadata": {
                "azdata_cell_guid": "c814c3e7-eb99-45fa-ab38-4adeb10d51a3"
            },
            "attachments": {}
        },
        {
            "cell_type": "code",
            "source": [
                "lower,upper = df.price.quantile([0.1,0.9]) ## using percentile to define boundary of outlier min 10% and max 90%\r\n",
                "lower,upper "
            ],
            "metadata": {
                "azdata_cell_guid": "a4a21bde-9103-434e-9169-3b1b35b3a3ac",
                "tags": []
            },
            "outputs": [
                {
                    "data": {
                        "text/plain": "(49.0, 269.0)"
                    },
                    "metadata": {},
                    "execution_count": 7,
                    "output_type": "execute_result"
                }
            ],
            "execution_count": 7
        },
        {
            "cell_type": "code",
            "source": [
                "df_out = df[(df.price<lower) | (df.price>upper)] ## Outlier\r\n",
                "df_out.shape, df.shape"
            ],
            "metadata": {
                "azdata_cell_guid": "299d111f-48ec-4077-bf72-625aee5ac3f2",
                "tags": [
                    "hide_input"
                ]
            },
            "outputs": [
                {
                    "data": {
                        "text/plain": "((9560, 16), (48895, 16))"
                    },
                    "metadata": {},
                    "execution_count": 8,
                    "output_type": "execute_result"
                }
            ],
            "execution_count": 8
        },
        {
            "cell_type": "code",
            "source": [
                "df2 = df[(df.price>lower) & (df.price<upper)] ## New table no outlier\r\n",
                "df2.sample(10)"
            ],
            "metadata": {
                "azdata_cell_guid": "4951fbac-70ff-421a-a048-f58c204488cc"
            },
            "outputs": [
                {
                    "data": {
                        "text/plain": "             id                                               name    host_id  \\\n477      167482                 Charming upper west side apartment     789257   \n21799  17520883                         Exciting New York Get Away  101672721   \n9973    7669319                 Sunny Studio, Amazing Neighborhood    2048347   \n25108  20120690                      Modern Williamsburg Penthouse    9691202   \n9335    7132891                         Bohemian & Chic Apartment.   23988743   \n46445  35257081    Private Room in Manhattan 15 min. from Midtown!  265424495   \n15920  12869662                 Bright Williamsburg Loft w Balcony    8636489   \n41559  32306527  RM#2-Bright room w/balcony 30 mins NYC & airports  241963980   \n11563   8993871                 Sunny bedroom with balcony, Queens   46979077   \n34387  27277107                             Cozy East Village Room     930201   \n\n      host_name neighbourhood_group     neighbourhood  latitude  longitude  \\\n477     Barbara           Manhattan   Upper West Side  40.77886  -73.98042   \n21799   Telisha           Manhattan            Harlem  40.81780  -73.93774   \n9973     Andrea            Brooklyn  Prospect Heights  40.67293  -73.96678   \n25108    Julien            Brooklyn      Williamsburg  40.71880  -73.94283   \n9335     Rachid            Brooklyn          Bushwick  40.69319  -73.92375   \n46445     Benat           Manhattan            Harlem  40.80486  -73.94754   \n15920      Evan            Brooklyn      Williamsburg  40.71701  -73.95685   \n41559   Deborah              Queens     Jamaica Hills  40.71686  -73.79742   \n11563      Maya              Queens          Elmhurst  40.74085  -73.89022   \n34387    Lilian           Manhattan      East Village  40.72817  -73.97730   \n\n             room_type  price  minimum_nights  number_of_reviews last_review  \\\n477    Entire home/apt    185               2                129  2019-06-07   \n21799     Private room    125               1                  0         NaN   \n9973   Entire home/apt     99               7                 11  2019-06-15   \n25108  Entire home/apt    250               7                 10  2019-05-25   \n9335      Private room     75               2                 22  2019-06-04   \n46445     Private room     50               1                  7  2019-06-30   \n15920  Entire home/apt    250               5                 14  2018-07-01   \n41559     Private room     67               2                 25  2019-07-07   \n11563     Private room     65               1                123  2019-06-22   \n34387     Private room     81               5                  9  2019-07-06   \n\n       reviews_per_month  calculated_host_listings_count  availability_365  \n477                 1.33                               1                14  \n21799                NaN                               1                 0  \n9973                0.23                               1               216  \n25108               0.45                               1                 5  \n9335                0.46                               1               362  \n46445               5.83                               2               267  \n15920               0.41                               1                 0  \n41559               6.88                               2               318  \n11563               2.76                               2               333  \n34387               0.97                               1               110  ",
                        "text/html": "<div>\n<style scoped>\n    .dataframe tbody tr th:only-of-type {\n        vertical-align: middle;\n    }\n\n    .dataframe tbody tr th {\n        vertical-align: top;\n    }\n\n    .dataframe thead th {\n        text-align: right;\n    }\n</style>\n<table border=\"1\" class=\"dataframe\">\n  <thead>\n    <tr style=\"text-align: right;\">\n      <th></th>\n      <th>id</th>\n      <th>name</th>\n      <th>host_id</th>\n      <th>host_name</th>\n      <th>neighbourhood_group</th>\n      <th>neighbourhood</th>\n      <th>latitude</th>\n      <th>longitude</th>\n      <th>room_type</th>\n      <th>price</th>\n      <th>minimum_nights</th>\n      <th>number_of_reviews</th>\n      <th>last_review</th>\n      <th>reviews_per_month</th>\n      <th>calculated_host_listings_count</th>\n      <th>availability_365</th>\n    </tr>\n  </thead>\n  <tbody>\n    <tr>\n      <th>477</th>\n      <td>167482</td>\n      <td>Charming upper west side apartment</td>\n      <td>789257</td>\n      <td>Barbara</td>\n      <td>Manhattan</td>\n      <td>Upper West Side</td>\n      <td>40.77886</td>\n      <td>-73.98042</td>\n      <td>Entire home/apt</td>\n      <td>185</td>\n      <td>2</td>\n      <td>129</td>\n      <td>2019-06-07</td>\n      <td>1.33</td>\n      <td>1</td>\n      <td>14</td>\n    </tr>\n    <tr>\n      <th>21799</th>\n      <td>17520883</td>\n      <td>Exciting New York Get Away</td>\n      <td>101672721</td>\n      <td>Telisha</td>\n      <td>Manhattan</td>\n      <td>Harlem</td>\n      <td>40.81780</td>\n      <td>-73.93774</td>\n      <td>Private room</td>\n      <td>125</td>\n      <td>1</td>\n      <td>0</td>\n      <td>NaN</td>\n      <td>NaN</td>\n      <td>1</td>\n      <td>0</td>\n    </tr>\n    <tr>\n      <th>9973</th>\n      <td>7669319</td>\n      <td>Sunny Studio, Amazing Neighborhood</td>\n      <td>2048347</td>\n      <td>Andrea</td>\n      <td>Brooklyn</td>\n      <td>Prospect Heights</td>\n      <td>40.67293</td>\n      <td>-73.96678</td>\n      <td>Entire home/apt</td>\n      <td>99</td>\n      <td>7</td>\n      <td>11</td>\n      <td>2019-06-15</td>\n      <td>0.23</td>\n      <td>1</td>\n      <td>216</td>\n    </tr>\n    <tr>\n      <th>25108</th>\n      <td>20120690</td>\n      <td>Modern Williamsburg Penthouse</td>\n      <td>9691202</td>\n      <td>Julien</td>\n      <td>Brooklyn</td>\n      <td>Williamsburg</td>\n      <td>40.71880</td>\n      <td>-73.94283</td>\n      <td>Entire home/apt</td>\n      <td>250</td>\n      <td>7</td>\n      <td>10</td>\n      <td>2019-05-25</td>\n      <td>0.45</td>\n      <td>1</td>\n      <td>5</td>\n    </tr>\n    <tr>\n      <th>9335</th>\n      <td>7132891</td>\n      <td>Bohemian &amp; Chic Apartment.</td>\n      <td>23988743</td>\n      <td>Rachid</td>\n      <td>Brooklyn</td>\n      <td>Bushwick</td>\n      <td>40.69319</td>\n      <td>-73.92375</td>\n      <td>Private room</td>\n      <td>75</td>\n      <td>2</td>\n      <td>22</td>\n      <td>2019-06-04</td>\n      <td>0.46</td>\n      <td>1</td>\n      <td>362</td>\n    </tr>\n    <tr>\n      <th>46445</th>\n      <td>35257081</td>\n      <td>Private Room in Manhattan 15 min. from Midtown!</td>\n      <td>265424495</td>\n      <td>Benat</td>\n      <td>Manhattan</td>\n      <td>Harlem</td>\n      <td>40.80486</td>\n      <td>-73.94754</td>\n      <td>Private room</td>\n      <td>50</td>\n      <td>1</td>\n      <td>7</td>\n      <td>2019-06-30</td>\n      <td>5.83</td>\n      <td>2</td>\n      <td>267</td>\n    </tr>\n    <tr>\n      <th>15920</th>\n      <td>12869662</td>\n      <td>Bright Williamsburg Loft w Balcony</td>\n      <td>8636489</td>\n      <td>Evan</td>\n      <td>Brooklyn</td>\n      <td>Williamsburg</td>\n      <td>40.71701</td>\n      <td>-73.95685</td>\n      <td>Entire home/apt</td>\n      <td>250</td>\n      <td>5</td>\n      <td>14</td>\n      <td>2018-07-01</td>\n      <td>0.41</td>\n      <td>1</td>\n      <td>0</td>\n    </tr>\n    <tr>\n      <th>41559</th>\n      <td>32306527</td>\n      <td>RM#2-Bright room w/balcony 30 mins NYC &amp; airports</td>\n      <td>241963980</td>\n      <td>Deborah</td>\n      <td>Queens</td>\n      <td>Jamaica Hills</td>\n      <td>40.71686</td>\n      <td>-73.79742</td>\n      <td>Private room</td>\n      <td>67</td>\n      <td>2</td>\n      <td>25</td>\n      <td>2019-07-07</td>\n      <td>6.88</td>\n      <td>2</td>\n      <td>318</td>\n    </tr>\n    <tr>\n      <th>11563</th>\n      <td>8993871</td>\n      <td>Sunny bedroom with balcony, Queens</td>\n      <td>46979077</td>\n      <td>Maya</td>\n      <td>Queens</td>\n      <td>Elmhurst</td>\n      <td>40.74085</td>\n      <td>-73.89022</td>\n      <td>Private room</td>\n      <td>65</td>\n      <td>1</td>\n      <td>123</td>\n      <td>2019-06-22</td>\n      <td>2.76</td>\n      <td>2</td>\n      <td>333</td>\n    </tr>\n    <tr>\n      <th>34387</th>\n      <td>27277107</td>\n      <td>Cozy East Village Room</td>\n      <td>930201</td>\n      <td>Lilian</td>\n      <td>Manhattan</td>\n      <td>East Village</td>\n      <td>40.72817</td>\n      <td>-73.97730</td>\n      <td>Private room</td>\n      <td>81</td>\n      <td>5</td>\n      <td>9</td>\n      <td>2019-07-06</td>\n      <td>0.97</td>\n      <td>1</td>\n      <td>110</td>\n    </tr>\n  </tbody>\n</table>\n</div>"
                    },
                    "metadata": {},
                    "execution_count": 9,
                    "output_type": "execute_result"
                }
            ],
            "execution_count": 9
        },
        {
            "cell_type": "code",
            "source": [
                "df2.price.describe()"
            ],
            "metadata": {
                "azdata_cell_guid": "3c276e36-78b7-4f85-8170-c980f24ba07a"
            },
            "outputs": [
                {
                    "data": {
                        "text/plain": "count    38957.00000\nmean       121.60708\nstd         55.45717\nmin         50.00000\n25%         75.00000\n50%        107.00000\n75%        155.00000\nmax        268.00000\nName: price, dtype: float64"
                    },
                    "metadata": {},
                    "execution_count": 10,
                    "output_type": "execute_result"
                }
            ],
            "execution_count": 10
        },
        {
            "cell_type": "code",
            "source": [
                "sn.histplot(df2.price, kde=True)"
            ],
            "metadata": {
                "azdata_cell_guid": "5108c4f0-f677-4b72-b860-465700a9e5f1"
            },
            "outputs": [
                {
                    "data": {
                        "text/plain": "<Figure size 432x288 with 1 Axes>",
                        "image/png": "[encoded data removed]"
                    },
                    "metadata": {
                        "needs_background": "light"
                    },
                    "output_type": "display_data"
                },
                {
                    "data": {
                        "text/plain": "<AxesSubplot:xlabel='price', ylabel='Count'>"
                    },
                    "metadata": {},
                    "execution_count": 11,
                    "output_type": "execute_result"
                }
            ],
            "execution_count": 11
        },
        {
            "cell_type": "markdown",
            "source": [
                "## Find missing value on new dataframe"
            ],
            "metadata": {
                "azdata_cell_guid": "2e1e582c-9b2c-44f1-8a26-d0149fe8a31a"
            },
            "attachments": {}
        },
        {
            "cell_type": "code",
            "source": [
                "df2.shape, df2.isnull().sum(), df2.duplicated().sum()"
            ],
            "metadata": {
                "azdata_cell_guid": "78c6fb38-f2f8-4ac9-85cd-6e35302a8a1e"
            },
            "outputs": [
                {
                    "output_type": "execute_result",
                    "execution_count": 94,
                    "data": {
                        "text/plain": "((38957, 16),\n id                                   0\n name                                12\n host_id                              0\n host_name                           17\n neighbourhood_group                  0\n neighbourhood                        0\n latitude                             0\n longitude                            0\n room_type                            0\n price                                0\n minimum_nights                       0\n number_of_reviews                    0\n last_review                       7400\n reviews_per_month                 7400\n calculated_host_listings_count       0\n availability_365                     0\n dtype: int64,\n 0)"
                    },
                    "metadata": {}
                }
            ],
            "execution_count": 94
        },
        {
            "cell_type": "code",
            "source": [
                "df3 = df2.dropna()"
            ],
            "metadata": {
                "azdata_cell_guid": "f67a2d97-cea3-4cfb-9cf0-ead57dfb0c20"
            },
            "outputs": [],
            "execution_count": 12
        },
        {
            "cell_type": "code",
            "source": [
                "df3.shape, df3.isnull().sum(), df3.duplicated().sum()"
            ],
            "metadata": {
                "azdata_cell_guid": "a91db865-858e-40cb-a5e2-e2a64cd2f1ed"
            },
            "outputs": [
                {
                    "data": {
                        "text/plain": "((31538, 16),\n id                                0\n name                              0\n host_id                           0\n host_name                         0\n neighbourhood_group               0\n neighbourhood                     0\n latitude                          0\n longitude                         0\n room_type                         0\n price                             0\n minimum_nights                    0\n number_of_reviews                 0\n last_review                       0\n reviews_per_month                 0\n calculated_host_listings_count    0\n availability_365                  0\n dtype: int64,\n 0)"
                    },
                    "metadata": {},
                    "execution_count": 16,
                    "output_type": "execute_result"
                }
            ],
            "execution_count": 16
        },
        {
            "cell_type": "code",
            "source": [
                "df3.shape"
            ],
            "metadata": {
                "azdata_cell_guid": "b5a24f2a-cecf-49cf-abff-0bbc15ffa6ff"
            },
            "outputs": [
{
    "data": {
        "text/plain": "(31538, 16)"
    },
    "metadata": {},
    "execution_count": 19,
    "output_type": "execute_result"
}
],
            "execution_count": 19
        }
    ]
}